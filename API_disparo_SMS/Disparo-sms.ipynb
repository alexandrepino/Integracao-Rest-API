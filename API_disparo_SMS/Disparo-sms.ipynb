{
 "cells": [
  {
   "cell_type": "markdown",
   "id": "62159bd3",
   "metadata": {},
   "source": [
    "# API utilizada para enviar SMS para números verificados no site\n",
    "# Crie uma conta no Twilio no link https://www.twilio.com/try-twilio"
   ]
  },
  {
   "cell_type": "markdown",
   "id": "2c8bb4d1",
   "metadata": {},
   "source": [
    "# Importando biblioteca utilizada no projeto"
   ]
  },
  {
   "cell_type": "code",
   "execution_count": null,
   "id": "9a6b9229",
   "metadata": {},
   "outputs": [],
   "source": [
    "from twilio.rest import Client"
   ]
  },
  {
   "cell_type": "markdown",
   "id": "bcf7ddcf",
   "metadata": {},
   "source": [
    "# Criando as variaveis de ambiente adquiridas na API"
   ]
  },
  {
   "cell_type": "code",
   "execution_count": 49,
   "id": "4c584e3c",
   "metadata": {},
   "outputs": [
    {
     "name": "stdout",
     "output_type": "stream",
     "text": [
      "Digite o seu account SID: AC9ded62eec5d4b974aef62c86a6a4a0a2\n",
      "Digite o seu TOKEN: 0ac82a543b814f1cf3888c9aa5a285a1\n",
      "Digite o seu numero utilizado na API: +16812529765\n"
     ]
    }
   ],
   "source": [
    "ACCOUNT_SID = str(input('Digite o seu account SID: '))\n",
    "TOKEN = str(input('Digite o seu TOKEN: '))\n",
    "REMETENTE = str(input('Digite o seu numero utilizado na API: '))"
   ]
  },
  {
   "cell_type": "markdown",
   "id": "52d69acf",
   "metadata": {},
   "source": [
    "# Inserindo o número de destino da mensagem"
   ]
  },
  {
   "cell_type": "code",
   "execution_count": 50,
   "id": "444a66d2",
   "metadata": {},
   "outputs": [
    {
     "name": "stdout",
     "output_type": "stream",
     "text": [
      "Digite o numero de destino: +5561981641945\n"
     ]
    }
   ],
   "source": [
    "destino = str(input('Digite o numero de destino: '))"
   ]
  },
  {
   "cell_type": "markdown",
   "id": "736d9905",
   "metadata": {},
   "source": [
    "# Inserindo a mensagem do SMS"
   ]
  },
  {
   "cell_type": "code",
   "execution_count": 51,
   "id": "f49ef616",
   "metadata": {},
   "outputs": [
    {
     "name": "stdout",
     "output_type": "stream",
     "text": [
      "Digite a mensagem: Hello World!!\n"
     ]
    }
   ],
   "source": [
    "mensagem = str(input('Digite a mensagem: '))"
   ]
  },
  {
   "cell_type": "markdown",
   "id": "a117c1ab",
   "metadata": {},
   "source": [
    "# Criando o objeto"
   ]
  },
  {
   "cell_type": "code",
   "execution_count": 52,
   "id": "ea588fe8",
   "metadata": {},
   "outputs": [],
   "source": [
    "client = Client(ACCOUNT_SID,TOKEN)"
   ]
  },
  {
   "cell_type": "markdown",
   "id": "a9d43ae2",
   "metadata": {},
   "source": [
    "# Executando o projeto e enviando o SMS"
   ]
  },
  {
   "cell_type": "code",
   "execution_count": 53,
   "id": "83e8b433",
   "metadata": {},
   "outputs": [
    {
     "name": "stdout",
     "output_type": "stream",
     "text": [
      "SM6b5867d0273447c787ce2cc66637c7ec\n"
     ]
    }
   ],
   "source": [
    "message = client.messages.create(\n",
    "    to=destino, \n",
    "    from_=REMETENTE,\n",
    "    body=mensagem)\n",
    "print(message.sid)"
   ]
  },
  {
   "cell_type": "code",
   "execution_count": null,
   "id": "e3df9a74",
   "metadata": {},
   "outputs": [],
   "source": []
  }
 ],
 "metadata": {
  "kernelspec": {
   "display_name": "Python 3 (ipykernel)",
   "language": "python",
   "name": "python3"
  },
  "language_info": {
   "codemirror_mode": {
    "name": "ipython",
    "version": 3
   },
   "file_extension": ".py",
   "mimetype": "text/x-python",
   "name": "python",
   "nbconvert_exporter": "python",
   "pygments_lexer": "ipython3",
   "version": "3.8.10"
  }
 },
 "nbformat": 4,
 "nbformat_minor": 5
}
