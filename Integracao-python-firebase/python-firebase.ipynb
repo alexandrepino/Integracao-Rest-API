{
 "cells": [
  {
   "cell_type": "markdown",
   "id": "605dfaeb",
   "metadata": {},
   "source": [
    "# Neste projeto irei demonstrar com integrar o Python com o Firebase"
   ]
  },
  {
   "cell_type": "markdown",
   "id": "d4b0be3b",
   "metadata": {},
   "source": [
    "# Importando as bibliotecas utilizadas no projeto"
   ]
  },
  {
   "cell_type": "code",
   "execution_count": 7,
   "id": "f70a26e0",
   "metadata": {},
   "outputs": [],
   "source": [
    "\n",
    "import json\n",
    "import pandas as pd\n",
    "import requests"
   ]
  },
  {
   "cell_type": "markdown",
   "id": "e3d7a924",
   "metadata": {},
   "source": [
    "# Transfomando o link da API do Firebase em uma variavel"
   ]
  },
  {
   "cell_type": "code",
   "execution_count": 2,
   "id": "bbd0093a",
   "metadata": {},
   "outputs": [],
   "source": [
    "link_vendas = 'https://integracao-python-1da75-default-rtdb.firebaseio.com/Vendas/'\n",
    "link_produtos = 'https://integracao-python-1da75-default-rtdb.firebaseio.com/Produtos/'"
   ]
  },
  {
   "cell_type": "markdown",
   "id": "b14a8657",
   "metadata": {},
   "source": [
    "# Cadastrando produtos localmente"
   ]
  },
  {
   "cell_type": "code",
   "execution_count": 3,
   "id": "8d6786ea",
   "metadata": {},
   "outputs": [
    {
     "name": "stdout",
     "output_type": "stream",
     "text": [
      "Nome do Produto: HD externo\n",
      "Valor: R$300\n",
      "Estoque: 10\n"
     ]
    }
   ],
   "source": [
    "nome_produto = str(input('Nome do Produto: '))\n",
    "preco = float(input('Valor: R$'))\n",
    "estoque = int(input('Estoque: '))"
   ]
  },
  {
   "cell_type": "markdown",
   "id": "a76fc8fc",
   "metadata": {},
   "source": [
    "# Cadastrando vendas localmente para a API\n"
   ]
  },
  {
   "cell_type": "code",
   "execution_count": 4,
   "id": "b1f7d7bc",
   "metadata": {},
   "outputs": [
    {
     "name": "stdout",
     "output_type": "stream",
     "text": [
      "Nome: Flavio\n",
      "Nome do Produto: HD externo\n",
      "Valor pago: 300\n"
     ]
    }
   ],
   "source": [
    "nome_cliente = str(input('Nome: '))\n",
    "nome_produto_comprado = str(input('Nome do Produto: '))\n",
    "valor_pago = float(input('Valor pago: '))"
   ]
  },
  {
   "cell_type": "code",
   "execution_count": 5,
   "id": "72559ba2",
   "metadata": {},
   "outputs": [],
   "source": [
    "dados_venda = {'cliente':nome_cliente, 'produto': nome_produto_comprado, 'pagou':valor_pago}\n",
    "dados_produto = {'nome': nome_produto, 'preco':preco, 'estoque':estoque}\n"
   ]
  },
  {
   "cell_type": "code",
   "execution_count": 8,
   "id": "0f9597d7",
   "metadata": {},
   "outputs": [],
   "source": [
    "requisicao_produtos_post = requests.post(f'{link_produtos}.json', data = json.dumps(dados_produto))\n",
    "requisicao_vendas_post = requests.post(f'{link_vendas}.json', data = json.dumps(dados_venda))"
   ]
  },
  {
   "cell_type": "code",
   "execution_count": 11,
   "id": "ea27bc2e",
   "metadata": {},
   "outputs": [
    {
     "data": {
      "text/plain": [
       "<Response [200]>"
      ]
     },
     "execution_count": 11,
     "metadata": {},
     "output_type": "execute_result"
    }
   ],
   "source": [
    "requisicao_produtos_post"
   ]
  },
  {
   "cell_type": "markdown",
   "id": "1934f1a0",
   "metadata": {},
   "source": [
    "# Extraindo informação do Firebase/API"
   ]
  },
  {
   "cell_type": "code",
   "execution_count": 12,
   "id": "0b8cc8a2",
   "metadata": {},
   "outputs": [],
   "source": [
    "requisicao_vendas_get = requests.get(f\"{link_vendas}/.json\")\n",
    "requisicao_produtos_get = requests.get(f\"{link_produtos}/.json\")"
   ]
  },
  {
   "cell_type": "code",
   "execution_count": 13,
   "id": "96cfa695",
   "metadata": {},
   "outputs": [
    {
     "data": {
      "text/plain": [
       "{'-MzFmfDOoQP1MsegBwsf': {'cliente': 'Silva',\n",
       "  'pagou': 600,\n",
       "  'produto': 'Monitor'},\n",
       " '-MzFrGp4Lhxthem5RQjT': {'cliente': 'Carlos',\n",
       "  'pagou': 1500.0,\n",
       "  'produto': 'Celular Sansung'},\n",
       " '-MzyntVAMdcpIza5-LIB': {'cliente': 'Flavio',\n",
       "  'pagou': 300.0,\n",
       "  'produto': 'HD externo'},\n",
       " 'VID1': {'cliente': 'Maicon', 'pagou': 50, 'produto': 'fone de ouvido'}}"
      ]
     },
     "execution_count": 13,
     "metadata": {},
     "output_type": "execute_result"
    }
   ],
   "source": [
    "r_vendas = requisicao_vendas_get.json()\n",
    "r_vendas"
   ]
  },
  {
   "cell_type": "code",
   "execution_count": 14,
   "id": "76a06452",
   "metadata": {},
   "outputs": [
    {
     "data": {
      "text/plain": [
       "{'-MzFmf5Bfx91AP8pkc5R': {'estoque': 90, 'nome': 'Monitor', 'preco': 600},\n",
       " '-MzFrGgcsGJ2ip5udwUG': {'estoque': 200,\n",
       "  'nome': 'Celular Sansung',\n",
       "  'preco': 1500.0},\n",
       " '-MzyntJhR3pEbtcJDRG-': {'estoque': 10, 'nome': 'HD externo', 'preco': 300.0},\n",
       " 'PID1': {'estoque': 100, 'nome': 'fone de ouvido', 'preco': 50}}"
      ]
     },
     "execution_count": 14,
     "metadata": {},
     "output_type": "execute_result"
    }
   ],
   "source": [
    "r_produtos = requisicao_produtos_get.json()\n",
    "r_produtos"
   ]
  },
  {
   "cell_type": "markdown",
   "id": "fe617020",
   "metadata": {},
   "source": [
    "# Covertendo as informções extraidas da API do Firebase em um DataFrame"
   ]
  },
  {
   "cell_type": "code",
   "execution_count": 17,
   "id": "7dd36b2d",
   "metadata": {},
   "outputs": [
    {
     "data": {
      "text/html": [
       "<div>\n",
       "<style scoped>\n",
       "    .dataframe tbody tr th:only-of-type {\n",
       "        vertical-align: middle;\n",
       "    }\n",
       "\n",
       "    .dataframe tbody tr th {\n",
       "        vertical-align: top;\n",
       "    }\n",
       "\n",
       "    .dataframe thead th {\n",
       "        text-align: right;\n",
       "    }\n",
       "</style>\n",
       "<table border=\"1\" class=\"dataframe\">\n",
       "  <thead>\n",
       "    <tr style=\"text-align: right;\">\n",
       "      <th></th>\n",
       "      <th>id produto</th>\n",
       "      <th>estoque</th>\n",
       "      <th>nome</th>\n",
       "      <th>preco</th>\n",
       "    </tr>\n",
       "  </thead>\n",
       "  <tbody>\n",
       "    <tr>\n",
       "      <th>0</th>\n",
       "      <td>PID1</td>\n",
       "      <td>100</td>\n",
       "      <td>fone de ouvido</td>\n",
       "      <td>50</td>\n",
       "    </tr>\n",
       "    <tr>\n",
       "      <th>1</th>\n",
       "      <td>PID2</td>\n",
       "      <td>90</td>\n",
       "      <td>Monitor</td>\n",
       "      <td>600</td>\n",
       "    </tr>\n",
       "    <tr>\n",
       "      <th>2</th>\n",
       "      <td>PID3</td>\n",
       "      <td>200</td>\n",
       "      <td>Celular Sansung</td>\n",
       "      <td>1500.0</td>\n",
       "    </tr>\n",
       "    <tr>\n",
       "      <th>3</th>\n",
       "      <td>PID4</td>\n",
       "      <td>10</td>\n",
       "      <td>HD externo</td>\n",
       "      <td>300.0</td>\n",
       "    </tr>\n",
       "  </tbody>\n",
       "</table>\n",
       "</div>"
      ],
      "text/plain": [
       "  id produto estoque             nome   preco\n",
       "0       PID1     100   fone de ouvido      50\n",
       "1       PID2      90          Monitor     600\n",
       "2       PID3     200  Celular Sansung  1500.0\n",
       "3       PID4      10       HD externo   300.0"
      ]
     },
     "execution_count": 17,
     "metadata": {},
     "output_type": "execute_result"
    }
   ],
   "source": [
    "produtos_df = pd.DataFrame(r_produtos).transpose()\n",
    "produtos_df = produtos_df.reset_index()\n",
    "produtos_df = produtos_df.rename(columns={'index':'id produto'})\n",
    "produtos_df.loc[produtos_df['id produto'] == '-MzFmf5Bfx91AP8pkc5R', 'id produto'] = 'PID2'\n",
    "produtos_df.loc[produtos_df['id produto'] == '-MzFrGgcsGJ2ip5udwUG', 'id produto'] = 'PID3'\n",
    "produtos_df.loc[produtos_df['id produto'] == '-MzyntJhR3pEbtcJDRG-', 'id produto'] = 'PID4'\n",
    "produtos_df = produtos_df.sort_values('id produto', ascending = True)\n",
    "produtos_df.index = range(produtos_df.shape[0])\n",
    "\n",
    "\n",
    "\n",
    "produtos_df"
   ]
  },
  {
   "cell_type": "code",
   "execution_count": 18,
   "id": "a05a3359",
   "metadata": {},
   "outputs": [
    {
     "data": {
      "text/html": [
       "<div>\n",
       "<style scoped>\n",
       "    .dataframe tbody tr th:only-of-type {\n",
       "        vertical-align: middle;\n",
       "    }\n",
       "\n",
       "    .dataframe tbody tr th {\n",
       "        vertical-align: top;\n",
       "    }\n",
       "\n",
       "    .dataframe thead th {\n",
       "        text-align: right;\n",
       "    }\n",
       "</style>\n",
       "<table border=\"1\" class=\"dataframe\">\n",
       "  <thead>\n",
       "    <tr style=\"text-align: right;\">\n",
       "      <th></th>\n",
       "      <th>id produto</th>\n",
       "      <th>cliente</th>\n",
       "      <th>pagou</th>\n",
       "      <th>produto</th>\n",
       "    </tr>\n",
       "  </thead>\n",
       "  <tbody>\n",
       "    <tr>\n",
       "      <th>0</th>\n",
       "      <td>VID1</td>\n",
       "      <td>Maicon</td>\n",
       "      <td>50</td>\n",
       "      <td>fone de ouvido</td>\n",
       "    </tr>\n",
       "    <tr>\n",
       "      <th>1</th>\n",
       "      <td>VID2</td>\n",
       "      <td>Silva</td>\n",
       "      <td>600</td>\n",
       "      <td>Monitor</td>\n",
       "    </tr>\n",
       "    <tr>\n",
       "      <th>2</th>\n",
       "      <td>VID3</td>\n",
       "      <td>Carlos</td>\n",
       "      <td>1500.0</td>\n",
       "      <td>Celular Sansung</td>\n",
       "    </tr>\n",
       "    <tr>\n",
       "      <th>3</th>\n",
       "      <td>VID4</td>\n",
       "      <td>Flavio</td>\n",
       "      <td>300.0</td>\n",
       "      <td>HD externo</td>\n",
       "    </tr>\n",
       "  </tbody>\n",
       "</table>\n",
       "</div>"
      ],
      "text/plain": [
       "  id produto cliente   pagou          produto\n",
       "0       VID1  Maicon      50   fone de ouvido\n",
       "1       VID2   Silva     600          Monitor\n",
       "2       VID3  Carlos  1500.0  Celular Sansung\n",
       "3       VID4  Flavio   300.0       HD externo"
      ]
     },
     "execution_count": 18,
     "metadata": {},
     "output_type": "execute_result"
    }
   ],
   "source": [
    "vendas_df = pd.DataFrame(r_vendas).transpose()\n",
    "vendas_df = vendas_df.reset_index()\n",
    "vendas_df = vendas_df.rename(columns={'index':'id produto'})\n",
    "vendas_df.loc[vendas_df['id produto'] == '-MzFmfDOoQP1MsegBwsf', 'id produto'] = 'VID2'\n",
    "vendas_df.loc[vendas_df['id produto'] == '-MzFrGp4Lhxthem5RQjT', 'id produto'] = 'VID3'\n",
    "vendas_df.loc[vendas_df['id produto'] == '-MzyntVAMdcpIza5-LIB', 'id produto'] = 'VID4'\n",
    "vendas_df = vendas_df.sort_values('id produto', ascending = True)\n",
    "vendas_df.index = range(vendas_df.shape[0])\n",
    "\n",
    "vendas_df"
   ]
  },
  {
   "cell_type": "code",
   "execution_count": null,
   "id": "0ce8c948",
   "metadata": {},
   "outputs": [],
   "source": []
  }
 ],
 "metadata": {
  "kernelspec": {
   "display_name": "Python 3 (ipykernel)",
   "language": "python",
   "name": "python3"
  },
  "language_info": {
   "codemirror_mode": {
    "name": "ipython",
    "version": 3
   },
   "file_extension": ".py",
   "mimetype": "text/x-python",
   "name": "python",
   "nbconvert_exporter": "python",
   "pygments_lexer": "ipython3",
   "version": "3.9.10"
  }
 },
 "nbformat": 4,
 "nbformat_minor": 5
}
