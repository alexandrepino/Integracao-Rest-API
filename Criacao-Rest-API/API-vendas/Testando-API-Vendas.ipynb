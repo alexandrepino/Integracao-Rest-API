{
 "cells": [
  {
   "cell_type": "markdown",
   "id": "330fc747",
   "metadata": {},
   "source": [
    "# Importando Bibliotecas utilizadas no projeto"
   ]
  },
  {
   "cell_type": "code",
   "execution_count": 145,
   "id": "ce0a1e21",
   "metadata": {},
   "outputs": [],
   "source": [
    "import requests\n",
    "import pandas as pd\n",
    "import json"
   ]
  },
  {
   "cell_type": "markdown",
   "id": "359ed6bc",
   "metadata": {},
   "source": [
    "# Transformando os links da API em constantes"
   ]
  },
  {
   "cell_type": "code",
   "execution_count": 146,
   "id": "f35a0eb4",
   "metadata": {},
   "outputs": [],
   "source": [
    "HOME = 'http://127.0.0.1:5000'\n",
    "FATURAMENTO = 'http://127.0.0.1:5000/faturamento'\n",
    "PRODUTOS = 'http://127.0.0.1:5000/produtos'\n",
    "PRODUTO_VALOR = 'http://127.0.0.1:5000/produto-valor'\n",
    "PRODUTO_ESTOQUE = 'http://127.0.0.1:5000/quantidade-produtos-estoque'\n",
    "PRODUTO_LUCRO = 'http://127.0.0.1:5000/vendas-produtos'\n",
    "LOJAS = 'http://127.0.0.1:5000/lojas'"
   ]
  },
  {
   "cell_type": "code",
   "execution_count": 149,
   "id": "a0228cf9",
   "metadata": {},
   "outputs": [
    {
     "name": "stdout",
     "output_type": "stream",
     "text": [
      "Selecione o produto para pesquisar o lucro: Calça\n"
     ]
    }
   ],
   "source": [
    "produto = str(input('Selecione o produto para pesquisar o lucro: '))\n",
    "PRODUTO_LUCRO_SEL = f'http://127.0.0.1:5000/vendas-produtos/{produto}'"
   ]
  },
  {
   "cell_type": "markdown",
   "id": "442945cb",
   "metadata": {},
   "source": [
    "# Criando a função para coletar a informação da HOME na API"
   ]
  },
  {
   "cell_type": "code",
   "execution_count": 126,
   "id": "339fdd7f",
   "metadata": {},
   "outputs": [],
   "source": [
    "def home():\n",
    "    r = requests.get(HOME)\n",
    "    r_json = r.json()\n",
    "    return r_json"
   ]
  },
  {
   "cell_type": "markdown",
   "id": "421624ba",
   "metadata": {},
   "source": [
    "# Criando a função para coletar a informação do faturamento total na API"
   ]
  },
  {
   "cell_type": "code",
   "execution_count": 128,
   "id": "48ec0c9f",
   "metadata": {},
   "outputs": [],
   "source": [
    "def faturamento():\n",
    "    r = requests.get(FATURAMENTO)\n",
    "    r_json = r.json()\n",
    "    return r.json()"
   ]
  },
  {
   "cell_type": "markdown",
   "id": "6026a11c",
   "metadata": {},
   "source": [
    "# Criando a função para coletar o nome de todos os produtos na API"
   ]
  },
  {
   "cell_type": "code",
   "execution_count": 130,
   "id": "60c12bb7",
   "metadata": {},
   "outputs": [],
   "source": [
    "def produtos():\n",
    "    r = requests.get(PRODUTOS)\n",
    "    r_json = r.json()\n",
    "    return r_json"
   ]
  },
  {
   "cell_type": "markdown",
   "id": "0e04878c",
   "metadata": {},
   "source": [
    "# Criando a função para coletar o valor de todos os produtos na API"
   ]
  },
  {
   "cell_type": "code",
   "execution_count": 132,
   "id": "79f44894",
   "metadata": {},
   "outputs": [],
   "source": [
    "def valor_produto():\n",
    "    r = requests.get(PRODUTO_VALOR)\n",
    "    r_json = r.json()\n",
    "    return r_json"
   ]
  },
  {
   "cell_type": "markdown",
   "id": "73c62851",
   "metadata": {},
   "source": [
    "# Criando a função para coletar a quantidade de todos os produtos no estoque na API"
   ]
  },
  {
   "cell_type": "code",
   "execution_count": 134,
   "id": "c83f0950",
   "metadata": {},
   "outputs": [],
   "source": [
    "def estoque():\n",
    "    r = requests.get(PRODUTO_ESTOQUE)\n",
    "    r_json = r.json()\n",
    "    return r_json\n",
    "        "
   ]
  },
  {
   "cell_type": "markdown",
   "id": "2586c988",
   "metadata": {},
   "source": [
    "# Criando a função que retorna o lucro de todos os produtos na API"
   ]
  },
  {
   "cell_type": "code",
   "execution_count": 136,
   "id": "b61c5442",
   "metadata": {},
   "outputs": [],
   "source": [
    "def lucro():\n",
    "    r = requests.get(PRODUTO_LUCRO)\n",
    "    r_json = r.json()\n",
    "    return r_json"
   ]
  },
  {
   "cell_type": "markdown",
   "id": "233b3f81",
   "metadata": {},
   "source": [
    "# Criando a função que retorna o nome de todas as lojas na API"
   ]
  },
  {
   "cell_type": "code",
   "execution_count": 141,
   "id": "16a72b31",
   "metadata": {},
   "outputs": [],
   "source": [
    "def lojas():\n",
    "    r = requests.get(LOJAS)\n",
    "    r_json = r.json()\n",
    "    return r_json"
   ]
  },
  {
   "cell_type": "markdown",
   "id": "fdf659ef",
   "metadata": {},
   "source": [
    "# Criando a função que retorna o lucro do produto selecionado na API"
   ]
  },
  {
   "cell_type": "code",
   "execution_count": 138,
   "id": "2468c492",
   "metadata": {},
   "outputs": [],
   "source": [
    "def selecionar_lucro_produto():\n",
    "    \n",
    "    r = requests.get(PRODUTO_LUCRO_SEL)\n",
    "    r_json = r.json()\n",
    "    return r_json"
   ]
  },
  {
   "cell_type": "markdown",
   "id": "c158b915",
   "metadata": {},
   "source": [
    "# Dados retornados da Home"
   ]
  },
  {
   "cell_type": "code",
   "execution_count": 127,
   "id": "74fda6db",
   "metadata": {},
   "outputs": [
    {
     "data": {
      "text/plain": [
       "{'Boas vindos': 'Bem vindos a nossa API'}"
      ]
     },
     "execution_count": 127,
     "metadata": {},
     "output_type": "execute_result"
    }
   ],
   "source": [
    "home()"
   ]
  },
  {
   "cell_type": "markdown",
   "id": "3a8d92eb",
   "metadata": {},
   "source": [
    "# Dados retornados do Faturamento total"
   ]
  },
  {
   "cell_type": "code",
   "execution_count": 129,
   "id": "cdb0eebc",
   "metadata": {},
   "outputs": [
    {
     "data": {
      "text/plain": [
       "{'Faturamento total': 'R$2,917,311.00'}"
      ]
     },
     "execution_count": 129,
     "metadata": {},
     "output_type": "execute_result"
    }
   ],
   "source": [
    "faturamento()"
   ]
  },
  {
   "cell_type": "markdown",
   "id": "166aedfe",
   "metadata": {},
   "source": [
    "# Dados retornados de todos os produtos"
   ]
  },
  {
   "cell_type": "code",
   "execution_count": 131,
   "id": "9e5d44ef",
   "metadata": {},
   "outputs": [
    {
     "data": {
      "text/plain": [
       "{'0': 'Sunga Listrado',\n",
       " '1': 'Casaco Listrado',\n",
       " '2': 'Sapato Listrado',\n",
       " '3': 'Casaco',\n",
       " '4': 'Gorro Liso',\n",
       " '5': 'Cueca Estampa',\n",
       " '6': 'Sunga Xadrez',\n",
       " '7': 'Polo Xadrez',\n",
       " '8': 'Tênis Linho',\n",
       " '9': 'Pulseira Listrado',\n",
       " '10': 'Camiseta Xadrez',\n",
       " '11': 'Camisa Listrado',\n",
       " '12': 'Camiseta Estampa',\n",
       " '13': 'Calça Xadrez',\n",
       " '14': 'Short Listrado',\n",
       " '15': 'Meia Listrado',\n",
       " '16': 'Relógio Listrado',\n",
       " '17': 'Sapato',\n",
       " '18': 'Pulseira Xadrez',\n",
       " '19': 'Relógio Liso',\n",
       " '20': 'Camisa Gola V Xadrez',\n",
       " '21': 'Meia Liso',\n",
       " '22': 'Sunga',\n",
       " '23': 'Pulseira Estampa',\n",
       " '24': 'Casaco Estampa',\n",
       " '25': 'Camisa Gola V Liso',\n",
       " '26': 'Sapato Linho',\n",
       " '27': 'Calça',\n",
       " '28': 'Terno Xadrez',\n",
       " '29': 'Gorro Xadrez',\n",
       " '30': 'Cueca Xadrez',\n",
       " '31': 'Calça Linho',\n",
       " '32': 'Camisa Gola V',\n",
       " '33': 'Sunga Linho',\n",
       " '34': 'Mochila',\n",
       " '35': 'Gorro Estampa',\n",
       " '36': 'Short Xadrez',\n",
       " '37': 'Meia Xadrez',\n",
       " '38': 'Camisa Linho',\n",
       " '39': 'Short Linho',\n",
       " '40': 'Pulseira',\n",
       " '41': 'Gorro Listrado',\n",
       " '42': 'Calça Listrado',\n",
       " '43': 'Bermuda Xadrez',\n",
       " '44': 'Terno Listrado',\n",
       " '45': 'Tênis Liso',\n",
       " '46': 'Terno Linho',\n",
       " '47': 'Polo',\n",
       " '48': 'Camisa Gola V Estampa',\n",
       " '49': 'Bermuda Estampa',\n",
       " '50': 'Mochila Xadrez',\n",
       " '51': 'Meia Estampa',\n",
       " '52': 'Sunga Estampa',\n",
       " '53': 'Calça Liso',\n",
       " '54': 'Mochila Linho',\n",
       " '55': 'Cinto Listrado',\n",
       " '56': 'Terno Liso',\n",
       " '57': 'Gorro Linho',\n",
       " '58': 'Polo Listrado',\n",
       " '59': 'Mochila Listrado',\n",
       " '60': 'Tênis Estampa',\n",
       " '61': 'Terno',\n",
       " '62': 'Camisa',\n",
       " '63': 'Polo Linho',\n",
       " '64': 'Short Estampa',\n",
       " '65': 'Bermuda Liso',\n",
       " '66': 'Relógio',\n",
       " '67': 'Cueca Linho',\n",
       " '68': 'Camiseta Linho',\n",
       " '69': 'Tênis Xadrez',\n",
       " '70': 'Cueca Listrado',\n",
       " '71': 'Cueca Liso',\n",
       " '72': 'Cinto Liso',\n",
       " '73': 'Chinelo Linho',\n",
       " '74': 'Chinelo Estampa',\n",
       " '75': 'Sapato Xadrez',\n",
       " '76': 'Camiseta Listrado',\n",
       " '77': 'Casaco Xadrez',\n",
       " '78': 'Pulseira Liso',\n",
       " '79': 'Mochila Liso',\n",
       " '80': 'Meia Linho',\n",
       " '81': 'Short',\n",
       " '82': 'Bermuda Listrado',\n",
       " '83': 'Gorro',\n",
       " '84': 'Casaco Linho',\n",
       " '85': 'Terno Estampa',\n",
       " '86': 'Chinelo Xadrez',\n",
       " '87': 'Cinto Estampa',\n",
       " '88': 'Camisa Xadrez',\n",
       " '89': 'Pulseira Linho',\n",
       " '90': 'Mochila Estampa',\n",
       " '91': 'Cinto Xadrez',\n",
       " '92': 'Tênis',\n",
       " '93': 'Chinelo Liso',\n",
       " '94': 'Camisa Liso',\n",
       " '95': 'Relógio Xadrez',\n",
       " '96': 'Camisa Estampa',\n",
       " '97': 'Polo Estampa',\n",
       " '98': 'Camisa Gola V Listrado',\n",
       " '99': 'Bermuda',\n",
       " '100': 'Tênis Listrado',\n",
       " '101': 'Relógio Estampa',\n",
       " '102': 'Chinelo Listrado',\n",
       " '103': 'Sapato Liso',\n",
       " '104': 'Cinto Linho',\n",
       " '105': 'Polo Liso',\n",
       " '106': 'Camisa Gola V Linho',\n",
       " '107': 'Bermuda Linho',\n",
       " '108': 'Sunga Liso',\n",
       " '109': 'Casaco Liso',\n",
       " '110': 'Calça Estampa',\n",
       " '111': 'Short Liso',\n",
       " '112': 'Cueca',\n",
       " '113': 'Meia',\n",
       " '114': 'Camiseta Liso',\n",
       " '115': 'Chinelo',\n",
       " '116': 'Relógio Linho',\n",
       " '117': 'Camiseta',\n",
       " '118': 'Sapato Estampa',\n",
       " '119': 'Cinto'}"
      ]
     },
     "execution_count": 131,
     "metadata": {},
     "output_type": "execute_result"
    }
   ],
   "source": [
    "produtos()\n"
   ]
  },
  {
   "cell_type": "markdown",
   "id": "52607f91",
   "metadata": {},
   "source": [
    "# Dados retornados com todos os valores dos produtos"
   ]
  },
  {
   "cell_type": "code",
   "execution_count": 133,
   "id": "bb1c0a22",
   "metadata": {},
   "outputs": [
    {
     "data": {
      "text/plain": [
       "{'Valor Unitário': {'Bermuda': 150.0,\n",
       "  'Bermuda Estampa': 169.0,\n",
       "  'Bermuda Linho': 195.0,\n",
       "  'Bermuda Liso': 157.0,\n",
       "  'Bermuda Listrado': 163.0,\n",
       "  'Bermuda Xadrez': 155.0,\n",
       "  'Calça': 170.0,\n",
       "  'Calça Estampa': 177.0,\n",
       "  'Calça Linho': 211.0,\n",
       "  'Calça Liso': 190.0,\n",
       "  'Calça Listrado': 181.0,\n",
       "  'Calça Xadrez': 185.0,\n",
       "  'Camisa': 100.0,\n",
       "  'Camisa Estampa': 113.0,\n",
       "  'Camisa Gola V': 100.0,\n",
       "  'Camisa Gola V Estampa': 118.0,\n",
       "  'Camisa Gola V Linho': 145.0,\n",
       "  'Camisa Gola V Liso': 118.0,\n",
       "  'Camisa Gola V Listrado': 116.0,\n",
       "  'Camisa Gola V Xadrez': 107.0,\n",
       "  'Camisa Linho': 141.0,\n",
       "  'Camisa Liso': 105.0,\n",
       "  'Camisa Listrado': 108.0,\n",
       "  'Camisa Xadrez': 105.0,\n",
       "  'Camiseta': 180.0,\n",
       "  'Camiseta Estampa': 196.0,\n",
       "  'Camiseta Linho': 223.0,\n",
       "  'Camiseta Liso': 187.0,\n",
       "  'Camiseta Listrado': 197.0,\n",
       "  'Camiseta Xadrez': 200.0,\n",
       "  'Casaco': 250.0,\n",
       "  'Casaco Estampa': 256.0,\n",
       "  'Casaco Linho': 299.0,\n",
       "  'Casaco Liso': 255.0,\n",
       "  'Casaco Listrado': 269.0,\n",
       "  'Casaco Xadrez': 259.0,\n",
       "  'Chinelo': 60.0,\n",
       "  'Chinelo Estampa': 74.0,\n",
       "  'Chinelo Linho': 105.0,\n",
       "  'Chinelo Liso': 71.0,\n",
       "  'Chinelo Listrado': 73.0,\n",
       "  'Chinelo Xadrez': 66.0,\n",
       "  'Cinto': 200.0,\n",
       "  'Cinto Estampa': 209.0,\n",
       "  'Cinto Linho': 248.0,\n",
       "  'Cinto Liso': 209.0,\n",
       "  'Cinto Listrado': 214.0,\n",
       "  'Cinto Xadrez': 215.0,\n",
       "  'Cueca': 50.0,\n",
       "  'Cueca Estampa': 66.0,\n",
       "  'Cueca Linho': 93.0,\n",
       "  'Cueca Liso': 69.0,\n",
       "  'Cueca Listrado': 67.0,\n",
       "  'Cueca Xadrez': 60.0,\n",
       "  'Gorro': 80.0,\n",
       "  'Gorro Estampa': 93.0,\n",
       "  'Gorro Linho': 124.0,\n",
       "  'Gorro Liso': 92.0,\n",
       "  'Gorro Listrado': 97.0,\n",
       "  'Gorro Xadrez': 85.0,\n",
       "  'Meia': 30.0,\n",
       "  'Meia Estampa': 50.0,\n",
       "  'Meia Linho': 78.0,\n",
       "  'Meia Liso': 38.0,\n",
       "  'Meia Listrado': 37.0,\n",
       "  'Meia Xadrez': 41.0,\n",
       "  'Mochila': 270.0,\n",
       "  'Mochila Estampa': 277.0,\n",
       "  'Mochila Linho': 311.0,\n",
       "  'Mochila Liso': 276.0,\n",
       "  'Mochila Listrado': 275.0,\n",
       "  'Mochila Xadrez': 283.0,\n",
       "  'Polo': 130.0,\n",
       "  'Polo Estampa': 138.0,\n",
       "  'Polo Linho': 176.0,\n",
       "  'Polo Liso': 137.0,\n",
       "  'Polo Listrado': 149.0,\n",
       "  'Polo Xadrez': 142.0,\n",
       "  'Pulseira': 70.0,\n",
       "  'Pulseira Estampa': 87.0,\n",
       "  'Pulseira Linho': 114.0,\n",
       "  'Pulseira Liso': 87.0,\n",
       "  'Pulseira Listrado': 79.0,\n",
       "  'Pulseira Xadrez': 87.0,\n",
       "  'Relógio': 200.0,\n",
       "  'Relógio Estampa': 219.0,\n",
       "  'Relógio Linho': 240.0,\n",
       "  'Relógio Liso': 216.0,\n",
       "  'Relógio Listrado': 218.0,\n",
       "  'Relógio Xadrez': 214.0,\n",
       "  'Sapato': 350.0,\n",
       "  'Sapato Estampa': 358.0,\n",
       "  'Sapato Linho': 391.0,\n",
       "  'Sapato Liso': 368.0,\n",
       "  'Sapato Listrado': 363.0,\n",
       "  'Sapato Xadrez': 368.0,\n",
       "  'Short': 90.0,\n",
       "  'Short Estampa': 96.0,\n",
       "  'Short Linho': 133.0,\n",
       "  'Short Liso': 108.0,\n",
       "  'Short Listrado': 102.0,\n",
       "  'Short Xadrez': 100.0,\n",
       "  'Sunga': 100.0,\n",
       "  'Sunga Estampa': 120.0,\n",
       "  'Sunga Linho': 149.0,\n",
       "  'Sunga Liso': 114.0,\n",
       "  'Sunga Listrado': 114.0,\n",
       "  'Sunga Xadrez': 116.0,\n",
       "  'Terno': 700.0,\n",
       "  'Terno Estampa': 706.0,\n",
       "  'Terno Linho': 750.0,\n",
       "  'Terno Liso': 720.0,\n",
       "  'Terno Listrado': 709.0,\n",
       "  'Terno Xadrez': 709.0,\n",
       "  'Tênis': 250.0,\n",
       "  'Tênis Estampa': 256.0,\n",
       "  'Tênis Linho': 294.0,\n",
       "  'Tênis Liso': 266.0,\n",
       "  'Tênis Listrado': 262.0,\n",
       "  'Tênis Xadrez': 259.0}}"
      ]
     },
     "execution_count": 133,
     "metadata": {},
     "output_type": "execute_result"
    }
   ],
   "source": [
    "valor_produto()"
   ]
  },
  {
   "cell_type": "markdown",
   "id": "60e616ab",
   "metadata": {},
   "source": [
    "# Dados retornados com a quantidade de produtos no estoque"
   ]
  },
  {
   "cell_type": "code",
   "execution_count": 135,
   "id": "2a361fd1",
   "metadata": {},
   "outputs": [
    {
     "data": {
      "text/plain": [
       "{'Bermuda': 59,\n",
       " 'Bermuda Estampa': 49,\n",
       " 'Bermuda Linho': 61,\n",
       " 'Bermuda Liso': 44,\n",
       " 'Bermuda Listrado': 55,\n",
       " 'Bermuda Xadrez': 60,\n",
       " 'Calça': 62,\n",
       " 'Calça Estampa': 60,\n",
       " 'Calça Linho': 64,\n",
       " 'Calça Liso': 75,\n",
       " 'Calça Listrado': 55,\n",
       " 'Calça Xadrez': 40,\n",
       " 'Camisa': 74,\n",
       " 'Camisa Estampa': 74,\n",
       " 'Camisa Gola V': 53,\n",
       " 'Camisa Gola V Estampa': 63,\n",
       " 'Camisa Gola V Linho': 51,\n",
       " 'Camisa Gola V Liso': 72,\n",
       " 'Camisa Gola V Listrado': 49,\n",
       " 'Camisa Gola V Xadrez': 68,\n",
       " 'Camisa Linho': 77,\n",
       " 'Camisa Liso': 70,\n",
       " 'Camisa Listrado': 60,\n",
       " 'Camisa Xadrez': 65,\n",
       " 'Camiseta': 69,\n",
       " 'Camiseta Estampa': 63,\n",
       " 'Camiseta Linho': 58,\n",
       " 'Camiseta Liso': 58,\n",
       " 'Camiseta Listrado': 62,\n",
       " 'Camiseta Xadrez': 66,\n",
       " 'Casaco': 63,\n",
       " 'Casaco Estampa': 60,\n",
       " 'Casaco Linho': 62,\n",
       " 'Casaco Liso': 53,\n",
       " 'Casaco Listrado': 59,\n",
       " 'Casaco Xadrez': 60,\n",
       " 'Chinelo': 49,\n",
       " 'Chinelo Estampa': 52,\n",
       " 'Chinelo Linho': 59,\n",
       " 'Chinelo Liso': 59,\n",
       " 'Chinelo Listrado': 59,\n",
       " 'Chinelo Xadrez': 56,\n",
       " 'Cinto': 56,\n",
       " 'Cinto Estampa': 45,\n",
       " 'Cinto Linho': 61,\n",
       " 'Cinto Liso': 59,\n",
       " 'Cinto Listrado': 53,\n",
       " 'Cinto Xadrez': 57,\n",
       " 'Cueca': 64,\n",
       " 'Cueca Estampa': 60,\n",
       " 'Cueca Linho': 49,\n",
       " 'Cueca Liso': 58,\n",
       " 'Cueca Listrado': 60,\n",
       " 'Cueca Xadrez': 64,\n",
       " 'Gorro': 46,\n",
       " 'Gorro Estampa': 61,\n",
       " 'Gorro Linho': 46,\n",
       " 'Gorro Liso': 58,\n",
       " 'Gorro Listrado': 65,\n",
       " 'Gorro Xadrez': 63,\n",
       " 'Meia': 51,\n",
       " 'Meia Estampa': 56,\n",
       " 'Meia Linho': 50,\n",
       " 'Meia Liso': 66,\n",
       " 'Meia Listrado': 45,\n",
       " 'Meia Xadrez': 55,\n",
       " 'Mochila': 66,\n",
       " 'Mochila Estampa': 60,\n",
       " 'Mochila Linho': 71,\n",
       " 'Mochila Liso': 69,\n",
       " 'Mochila Listrado': 40,\n",
       " 'Mochila Xadrez': 66,\n",
       " 'Polo': 71,\n",
       " 'Polo Estampa': 68,\n",
       " 'Polo Linho': 69,\n",
       " 'Polo Liso': 64,\n",
       " 'Polo Listrado': 53,\n",
       " 'Polo Xadrez': 64,\n",
       " 'Pulseira': 50,\n",
       " 'Pulseira Estampa': 67,\n",
       " 'Pulseira Linho': 64,\n",
       " 'Pulseira Liso': 50,\n",
       " 'Pulseira Listrado': 73,\n",
       " 'Pulseira Xadrez': 50,\n",
       " 'Relógio': 62,\n",
       " 'Relógio Estampa': 53,\n",
       " 'Relógio Linho': 58,\n",
       " 'Relógio Liso': 58,\n",
       " 'Relógio Listrado': 74,\n",
       " 'Relógio Xadrez': 62,\n",
       " 'Sapato': 48,\n",
       " 'Sapato Estampa': 54,\n",
       " 'Sapato Linho': 69,\n",
       " 'Sapato Liso': 66,\n",
       " 'Sapato Listrado': 51,\n",
       " 'Sapato Xadrez': 54,\n",
       " 'Short': 45,\n",
       " 'Short Estampa': 63,\n",
       " 'Short Linho': 65,\n",
       " 'Short Liso': 55,\n",
       " 'Short Listrado': 52,\n",
       " 'Short Xadrez': 58,\n",
       " 'Sunga': 55,\n",
       " 'Sunga Estampa': 72,\n",
       " 'Sunga Linho': 57,\n",
       " 'Sunga Liso': 56,\n",
       " 'Sunga Listrado': 54,\n",
       " 'Sunga Xadrez': 65,\n",
       " 'Terno': 56,\n",
       " 'Terno Estampa': 66,\n",
       " 'Terno Linho': 70,\n",
       " 'Terno Liso': 59,\n",
       " 'Terno Listrado': 65,\n",
       " 'Terno Xadrez': 54,\n",
       " 'Tênis': 46,\n",
       " 'Tênis Estampa': 56,\n",
       " 'Tênis Linho': 58,\n",
       " 'Tênis Liso': 60,\n",
       " 'Tênis Listrado': 49,\n",
       " 'Tênis Xadrez': 54}"
      ]
     },
     "execution_count": 135,
     "metadata": {},
     "output_type": "execute_result"
    }
   ],
   "source": [
    "estoque()"
   ]
  },
  {
   "cell_type": "markdown",
   "id": "3d2c5d1d",
   "metadata": {},
   "source": [
    "# Dados retornados do faturamento por produto"
   ]
  },
  {
   "cell_type": "code",
   "execution_count": 137,
   "id": "9f43a596",
   "metadata": {},
   "outputs": [
    {
     "data": {
      "text/plain": [
       "{'Valor Final': {'Bermuda': 18450,\n",
       "  'Bermuda Estampa': 18590,\n",
       "  'Bermuda Linho': 25545,\n",
       "  'Bermuda Liso': 18683,\n",
       "  'Bermuda Listrado': 20212,\n",
       "  'Bermuda Xadrez': 20770,\n",
       "  'Calça': 23120,\n",
       "  'Calça Estampa': 21240,\n",
       "  'Calça Linho': 27008,\n",
       "  'Calça Liso': 29830,\n",
       "  'Calça Listrado': 22806,\n",
       "  'Calça Xadrez': 15355,\n",
       "  'Camisa': 14600,\n",
       "  'Camisa Estampa': 19549,\n",
       "  'Camisa Gola V': 11100,\n",
       "  'Camisa Gola V Estampa': 17582,\n",
       "  'Camisa Gola V Linho': 17110,\n",
       "  'Camisa Gola V Liso': 18644,\n",
       "  'Camisa Gola V Listrado': 11832,\n",
       "  'Camisa Gola V Xadrez': 13910,\n",
       "  'Camisa Linho': 21432,\n",
       "  'Camisa Liso': 16380,\n",
       "  'Camisa Listrado': 15120,\n",
       "  'Camisa Xadrez': 13440,\n",
       "  'Camiseta': 27900,\n",
       "  'Camiseta Estampa': 26068,\n",
       "  'Camiseta Linho': 26091,\n",
       "  'Camiseta Liso': 26180,\n",
       "  'Camiseta Listrado': 23640,\n",
       "  'Camiseta Xadrez': 31800,\n",
       "  'Casaco': 32250,\n",
       "  'Casaco Estampa': 35328,\n",
       "  'Casaco Linho': 36478,\n",
       "  'Casaco Liso': 34680,\n",
       "  'Casaco Listrado': 31473,\n",
       "  'Casaco Xadrez': 29267,\n",
       "  'Chinelo': 6240,\n",
       "  'Chinelo Estampa': 8732,\n",
       "  'Chinelo Linho': 10710,\n",
       "  'Chinelo Liso': 9940,\n",
       "  'Chinelo Listrado': 7592,\n",
       "  'Chinelo Xadrez': 8844,\n",
       "  'Cinto': 22800,\n",
       "  'Cinto Estampa': 21527,\n",
       "  'Cinto Linho': 34472,\n",
       "  'Cinto Liso': 22781,\n",
       "  'Cinto Listrado': 26964,\n",
       "  'Cinto Xadrez': 23650,\n",
       "  'Cueca': 7350,\n",
       "  'Cueca Estampa': 8844,\n",
       "  'Cueca Linho': 10230,\n",
       "  'Cueca Liso': 8280,\n",
       "  'Cueca Listrado': 8844,\n",
       "  'Cueca Xadrez': 8160,\n",
       "  'Gorro': 8720,\n",
       "  'Gorro Estampa': 11532,\n",
       "  'Gorro Linho': 12152,\n",
       "  'Gorro Liso': 12420,\n",
       "  'Gorro Listrado': 14744,\n",
       "  'Gorro Xadrez': 11730,\n",
       "  'Meia': 3360,\n",
       "  'Meia Estampa': 6250,\n",
       "  'Meia Linho': 8112,\n",
       "  'Meia Liso': 5852,\n",
       "  'Meia Listrado': 3811,\n",
       "  'Meia Xadrez': 4469,\n",
       "  'Mochila': 39150,\n",
       "  'Mochila Estampa': 34625,\n",
       "  'Mochila Linho': 45717,\n",
       "  'Mochila Liso': 40020,\n",
       "  'Mochila Listrado': 22275,\n",
       "  'Mochila Xadrez': 41035,\n",
       "  'Polo': 19760,\n",
       "  'Polo Estampa': 20562,\n",
       "  'Polo Linho': 28688,\n",
       "  'Polo Liso': 18495,\n",
       "  'Polo Listrado': 16688,\n",
       "  'Polo Xadrez': 19170,\n",
       "  'Pulseira': 6020,\n",
       "  'Pulseira Estampa': 11658,\n",
       "  'Pulseira Linho': 15162,\n",
       "  'Pulseira Liso': 9048,\n",
       "  'Pulseira Listrado': 12403,\n",
       "  'Pulseira Xadrez': 10701,\n",
       "  'Relógio': 25200,\n",
       "  'Relógio Estampa': 25185,\n",
       "  'Relógio Linho': 29520,\n",
       "  'Relógio Liso': 24192,\n",
       "  'Relógio Listrado': 33354,\n",
       "  'Relógio Xadrez': 31458,\n",
       "  'Sapato': 36400,\n",
       "  'Sapato Estampa': 44392,\n",
       "  'Sapato Linho': 59823,\n",
       "  'Sapato Liso': 54832,\n",
       "  'Sapato Listrado': 45738,\n",
       "  'Sapato Xadrez': 41952,\n",
       "  'Short': 8730,\n",
       "  'Short Estampa': 12864,\n",
       "  'Short Linho': 15827,\n",
       "  'Short Liso': 13608,\n",
       "  'Short Listrado': 12036,\n",
       "  'Short Xadrez': 12100,\n",
       "  'Sunga': 12300,\n",
       "  'Sunga Estampa': 18720,\n",
       "  'Sunga Linho': 18327,\n",
       "  'Sunga Liso': 13110,\n",
       "  'Sunga Listrado': 13566,\n",
       "  'Sunga Xadrez': 17864,\n",
       "  'Terno': 82600,\n",
       "  'Terno Estampa': 101664,\n",
       "  'Terno Linho': 102750,\n",
       "  'Terno Liso': 79920,\n",
       "  'Terno Listrado': 92879,\n",
       "  'Terno Xadrez': 70900,\n",
       "  'Tênis': 25250,\n",
       "  'Tênis Estampa': 32000,\n",
       "  'Tênis Linho': 34986,\n",
       "  'Tênis Liso': 34048,\n",
       "  'Tênis Listrado': 25938,\n",
       "  'Tênis Xadrez': 29526}}"
      ]
     },
     "execution_count": 137,
     "metadata": {},
     "output_type": "execute_result"
    }
   ],
   "source": [
    "lucro()"
   ]
  },
  {
   "cell_type": "markdown",
   "id": "954b72a3",
   "metadata": {},
   "source": [
    "# Dados retornados do faturamento de um produto selecionado"
   ]
  },
  {
   "cell_type": "code",
   "execution_count": 150,
   "id": "7365ebfb",
   "metadata": {},
   "outputs": [
    {
     "data": {
      "text/plain": [
       "{'Valor Final': 23120}"
      ]
     },
     "execution_count": 150,
     "metadata": {},
     "output_type": "execute_result"
    }
   ],
   "source": [
    "selecionar_lucro_produto()"
   ]
  },
  {
   "cell_type": "markdown",
   "id": "a1df1d4f",
   "metadata": {},
   "source": [
    "# Dados retornado com o nome de todas as lojas"
   ]
  },
  {
   "cell_type": "code",
   "execution_count": 142,
   "id": "48f64eb5",
   "metadata": {},
   "outputs": [
    {
     "data": {
      "text/plain": [
       "{'0': 'Shopping Morumbi',\n",
       " '1': 'Iguatemi Campinas',\n",
       " '2': 'Shopping SP Market',\n",
       " '3': 'Rio Mar Shopping Fortaleza',\n",
       " '4': 'Shopping União de Osasco',\n",
       " '5': 'Passei das Águas Shopping',\n",
       " '6': 'Shopping Ibirapuera',\n",
       " '7': 'Norte Shopping',\n",
       " '8': 'Shopping Iguatemi Fortaleza',\n",
       " '9': 'Shopping Center Interlagos',\n",
       " '10': 'Shopping Vila Velha',\n",
       " '11': 'Rio Mar Recife',\n",
       " '12': 'Parque Dom Pedro Shopping',\n",
       " '13': 'Palladium Shopping Curitiba',\n",
       " '14': 'Salvador Shopping',\n",
       " '15': 'Bourbon Shopping SP',\n",
       " '16': 'Iguatemi Esplanada',\n",
       " '17': 'Novo Shopping Ribeirão Preto',\n",
       " '18': 'Shopping Center Leste Aricanduva',\n",
       " '19': 'Center Shopping Uberlândia',\n",
       " '20': 'Shopping Recife',\n",
       " '21': 'Ribeirão Shopping',\n",
       " '22': 'Shopping Barra',\n",
       " '23': 'Shopping Midway Mall',\n",
       " '24': 'Shopping Eldorado'}"
      ]
     },
     "execution_count": 142,
     "metadata": {},
     "output_type": "execute_result"
    }
   ],
   "source": [
    "lojas()"
   ]
  }
 ],
 "metadata": {
  "kernelspec": {
   "display_name": "Python 3 (ipykernel)",
   "language": "python",
   "name": "python3"
  },
  "language_info": {
   "codemirror_mode": {
    "name": "ipython",
    "version": 3
   },
   "file_extension": ".py",
   "mimetype": "text/x-python",
   "name": "python",
   "nbconvert_exporter": "python",
   "pygments_lexer": "ipython3",
   "version": "3.8.10"
  }
 },
 "nbformat": 4,
 "nbformat_minor": 5
}
