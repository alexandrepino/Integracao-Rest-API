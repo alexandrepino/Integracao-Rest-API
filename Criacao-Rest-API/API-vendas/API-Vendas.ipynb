{
 "cells": [
  {
   "cell_type": "markdown",
   "id": "7aa3bd37",
   "metadata": {},
   "source": [
    "### O objetivo deste projeto é criar uma API que retornam valores de uma base de dados de vendas"
   ]
  },
  {
   "cell_type": "markdown",
   "id": "ee78dffa",
   "metadata": {},
   "source": [
    "# Importando Bibliotecas utilizadas no projeto"
   ]
  },
  {
   "cell_type": "code",
   "execution_count": 2,
   "id": "2fbc36d3",
   "metadata": {},
   "outputs": [],
   "source": [
    "import requests\n",
    "import pandas as pd\n",
    "from flask import Flask\n",
    "import pandas as pd"
   ]
  },
  {
   "cell_type": "markdown",
   "id": "d40af884",
   "metadata": {},
   "source": [
    "# Criando a API com a biblioteca Flask"
   ]
  },
  {
   "cell_type": "code",
   "execution_count": null,
   "id": "7424a328",
   "metadata": {},
   "outputs": [
    {
     "name": "stdout",
     "output_type": "stream",
     "text": [
      " * Serving Flask app '__main__' (lazy loading)\n",
      " * Environment: production\n",
      "\u001b[31m   WARNING: This is a development server. Do not use it in a production deployment.\u001b[0m\n",
      "\u001b[2m   Use a production WSGI server instead.\u001b[0m\n",
      " * Debug mode: off\n"
     ]
    },
    {
     "name": "stderr",
     "output_type": "stream",
     "text": [
      " * Running on http://127.0.0.1:5000/ (Press CTRL+C to quit)\n",
      "127.0.0.1 - - [13/Mar/2022 00:04:37] \"GET /vendas-produtos/Camisa HTTP/1.1\" 200 -\n",
      "127.0.0.1 - - [13/Mar/2022 00:04:37] \"GET /lojas HTTP/1.1\" 200 -\n",
      "127.0.0.1 - - [13/Mar/2022 00:05:01] \"GET /vendas-produtos/Camisa HTTP/1.1\" 200 -\n",
      "127.0.0.1 - - [13/Mar/2022 00:07:32] \"GET /vendas-produtos/aa HTTP/1.1\" 200 -\n",
      "127.0.0.1 - - [13/Mar/2022 00:36:57] \"GET /quantidade-produtos-estoque HTTP/1.1\" 200 -\n",
      "127.0.0.1 - - [13/Mar/2022 00:43:29] \"GET /vendas-produtos/Calça HTTP/1.1\" 200 -\n"
     ]
    }
   ],
   "source": [
    "servico_df = pd.read_excel(\"Vendas - Dez.xlsx\")\n",
    "\n",
    "\n",
    "app = Flask(__name__)\n",
    "\n",
    "\n",
    "\n",
    "#Retorna a HOME da API\n",
    "@app.route(\"/\")\n",
    "def boas_vindas():\n",
    "    return {'Boas vindas':'Bem vindos a nossa API'}\n",
    "\n",
    "#Retorna o faturamento total de todas as vendas\n",
    "@app.route(\"/faturamento\")\n",
    "def faturamento():\n",
    "    faturamento = float(servico_df['Valor Final'].sum())\n",
    "    return {'Faturamento total' : \"R${:,.2f}\".format(faturamento)}\n",
    "\n",
    "#Retorna o faturamento por produto\n",
    "@app.route(\"/vendas-produtos\")\n",
    "def vendas_por_produto():\n",
    "    vendas_produto = servico_df[['Produto','Valor Final']].groupby('Produto').sum()\n",
    "    vendas_produto_dict = vendas_produto.to_dict()\n",
    "    return vendas_produto_dict\n",
    "\n",
    "#Retorna o faturamento de um produto especifico\n",
    "@app.route(\"/vendas-produtos/<produto>\")\n",
    "def produto_especifico(produto):\n",
    "    vendas_produto = servico_df[['Produto','Valor Final']].groupby('Produto').sum()\n",
    "    if produto in vendas_produto.index:\n",
    "        vendas = vendas_produto.loc[produto]\n",
    "        vendas_dict = vendas.to_dict()\n",
    "        return vendas_dict\n",
    "    else:\n",
    "        return {produto:'inexistente'}\n",
    "\n",
    "#Retorna todos os produtos que são vendidos\n",
    "@app.route(\"/produtos\")\n",
    "def produtos():\n",
    "    lista_produtos = servico_df['Produto'].drop_duplicates()\n",
    "    lista_produtos_df = pd.DataFrame(lista_produtos)\n",
    "    lista_produtos_df = lista_produtos_df.reset_index(drop=True)\n",
    "    lista_produtos_dict = lista_produtos_df[\"Produto\"].to_dict()\n",
    "    return lista_produtos_dict \n",
    "\n",
    "#Retorna o valor de todos os produtos\n",
    "@app.route(\"/produto-valor\")\n",
    "def produto_valor():\n",
    "    lista_produto_valor = servico_df[['Produto', 'Valor Unitário']].groupby('Produto').mean()\n",
    "    produto_valor_dict = lista_produto_valor.to_dict()\n",
    "    return produto_valor_dict\n",
    "\n",
    "#Retorna a quatidade de todos os produtos no estoque\n",
    "@app.route(\"/quantidade-produtos-estoque\")\n",
    "def quantidade_produto():\n",
    "    quantidade_produto_list = servico_df['Produto'].value_counts()\n",
    "    quantidade_produto_dict = quantidade_produto_list.to_dict()\n",
    "    return quantidade_produto_dict\n",
    "\n",
    "#Retorna o nome de todas as lojas\n",
    "@app.route(\"/lojas\")\n",
    "def lojas():\n",
    "    lista_loja = servico_df['ID Loja'].unique()\n",
    "    lista_loja_df = pd.DataFrame(lista_loja) \n",
    "    lista_loja_df = lista_loja_df.rename(columns={0:'Lojas'})\n",
    "    lista_loja_dict = lista_loja_df['Lojas'].to_dict()\n",
    "    return lista_loja_dict\n",
    "\n",
    "\n",
    "app.run()"
   ]
  },
  {
   "cell_type": "markdown",
   "id": "1c0cf1e8",
   "metadata": {},
   "source": [
    "# Links para puxar informações da API\n",
    "\n",
    "## Retornar a HOME da API: http://127.0.0.1:5000\n",
    "\n",
    "## Retornar o faturamento total de todas as vendas: http://127.0.0.1:5000/faturamento\n",
    "\n",
    "## Retornar o faturamento total por produto: http://127.0.0.1:5000/vendas-produtos\n",
    "\n",
    "## Retornar todos os produtos que são vendidos: http://127.0.0.1:5000/produtos\n",
    "\n",
    "## Retornar a quatidade de todos os produtos no estoque : http://127.0.0.1:5000/quantidade-produtos-estoque\n",
    "\n",
    "## Retornar o valor unitário de todos os produtos: http://127.0.0.1:5000/produto-valor\n",
    "\n",
    "## Retornar o faturamento de um produto especifico: http://127.0.0.1:5000//vendas-produtos/< produto>\n",
    "\n"
   ]
  },
  {
   "cell_type": "code",
   "execution_count": null,
   "id": "3e811ab8",
   "metadata": {},
   "outputs": [],
   "source": []
  }
 ],
 "metadata": {
  "kernelspec": {
   "display_name": "Python 3 (ipykernel)",
   "language": "python",
   "name": "python3"
  },
  "language_info": {
   "codemirror_mode": {
    "name": "ipython",
    "version": 3
   },
   "file_extension": ".py",
   "mimetype": "text/x-python",
   "name": "python",
   "nbconvert_exporter": "python",
   "pygments_lexer": "ipython3",
   "version": "3.8.10"
  }
 },
 "nbformat": 4,
 "nbformat_minor": 5
}
