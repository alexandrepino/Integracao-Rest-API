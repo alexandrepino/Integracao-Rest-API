{
 "cells": [
  {
   "cell_type": "markdown",
   "id": "a1a805f9",
   "metadata": {},
   "source": [
    "# Link utilizado para pegar as cotações das moedas:https://docs.awesomeapi.com.br/api-de-moedas#legendas\n"
   ]
  },
  {
   "cell_type": "markdown",
   "id": "39347b78",
   "metadata": {},
   "source": [
    "# Importando Bibliotecas utilizadas no projeto"
   ]
  },
  {
   "cell_type": "code",
   "execution_count": null,
   "id": "e8775260",
   "metadata": {},
   "outputs": [],
   "source": [
    "import requests\n",
    "import json\n",
    "import pandas as pd\n",
    "import matplotlib.pyplot as plt"
   ]
  },
  {
   "cell_type": "markdown",
   "id": "0d6ec5aa",
   "metadata": {},
   "source": [
    "# Solicitando as informações ao usuário de qual moeda fazer a cotação"
   ]
  },
  {
   "cell_type": "code",
   "execution_count": 2,
   "id": "db7d19f1",
   "metadata": {},
   "outputs": [
    {
     "name": "stdout",
     "output_type": "stream",
     "text": [
      "Qual moeda fazer cotação: EUR\n"
     ]
    }
   ],
   "source": [
    "cotacao_moeda = str(input('Qual moeda fazer cotação: '))"
   ]
  },
  {
   "cell_type": "markdown",
   "id": "c6d780f8",
   "metadata": {},
   "source": [
    "# Solicitando as informações ao usuário de quantos dias anteriores fazer a cotação do BID"
   ]
  },
  {
   "cell_type": "code",
   "execution_count": 3,
   "id": "96ff66dd",
   "metadata": {},
   "outputs": [
    {
     "name": "stdout",
     "output_type": "stream",
     "text": [
      "Pegar cotação de quantos dias anteriores: 30\n"
     ]
    }
   ],
   "source": [
    "cotacoes_anteriores = int(input('Pegar cotação de quantos dias anteriores: '))"
   ]
  },
  {
   "cell_type": "markdown",
   "id": "ee593863",
   "metadata": {},
   "source": [
    "# Solicitando as informações ao usuário de qual determinado tempo fazer a cotação do BID"
   ]
  },
  {
   "cell_type": "code",
   "execution_count": 4,
   "id": "ea715495",
   "metadata": {},
   "outputs": [
    {
     "name": "stdout",
     "output_type": "stream",
     "text": [
      "Data de inicio: 20210306\n",
      "Data final: 20220306\n"
     ]
    }
   ],
   "source": [
    "data_cotacao_inicio = str(input('Data de inicio: '))\n",
    "data_cotacao_final = str(input('Data final: '))"
   ]
  },
  {
   "cell_type": "markdown",
   "id": "c9b3d0ad",
   "metadata": {},
   "source": [
    "# Trasformando a URL da API em uma constante"
   ]
  },
  {
   "cell_type": "code",
   "execution_count": 5,
   "id": "a72be7d4",
   "metadata": {},
   "outputs": [],
   "source": [
    "url_cotacao_atualizada = f\"https://economia.awesomeapi.com.br/json/last/{cotacao_moeda}-BRL\"\n",
    "url_cotacao_dias_anteriores = f\"https://economia.awesomeapi.com.br/json/daily/{cotacao_moeda}-BRL/{cotacoes_anteriores}\"\n",
    "url_cotacao_determinada_data = f\"https://economia.awesomeapi.com.br/{cotacao_moeda}-BRL/365?start_date={data_cotacao_inicio}&end_date={data_cotacao_final}\""
   ]
  },
  {
   "cell_type": "markdown",
   "id": "89e0c3d6",
   "metadata": {},
   "source": [
    "# Criando a função que puxa os dados atualizados da API"
   ]
  },
  {
   "cell_type": "code",
   "execution_count": 6,
   "id": "952b06a9",
   "metadata": {},
   "outputs": [],
   "source": [
    "def cotacao_atualizada():\n",
    "    r = requests.get(url_cotacao_atualizada)\n",
    "    r_json = r.json()\n",
    "    return r.json()"
   ]
  },
  {
   "cell_type": "markdown",
   "id": "c94dfe87",
   "metadata": {},
   "source": [
    "# Criando a função que puxa os dados dos dias anteriores da API"
   ]
  },
  {
   "cell_type": "code",
   "execution_count": 7,
   "id": "a7e5a0a9",
   "metadata": {},
   "outputs": [],
   "source": [
    "def cotacao_dias_anteriores():\n",
    "    r = requests.get(url_cotacao_dias_anteriores)\n",
    "    r_json = r.json()\n",
    "    return r.json()"
   ]
  },
  {
   "cell_type": "markdown",
   "id": "aefc1aea",
   "metadata": {},
   "source": [
    "# Criando a função que puxa os dados de determinada data na API"
   ]
  },
  {
   "cell_type": "code",
   "execution_count": 8,
   "id": "1e4622d3",
   "metadata": {},
   "outputs": [],
   "source": [
    "def cotacao_por_data():\n",
    "    r = requests.get(url_cotacao_determinada_data)\n",
    "    r_json = r.json()\n",
    "    return r_json"
   ]
  },
  {
   "cell_type": "markdown",
   "id": "2f69327a",
   "metadata": {},
   "source": [
    "# Mostrando na tela informações da cotação atualizada em um dicionário"
   ]
  },
  {
   "cell_type": "code",
   "execution_count": 9,
   "id": "fe40fd71",
   "metadata": {},
   "outputs": [
    {
     "data": {
      "text/plain": [
       "{'EURBRL': {'code': 'EUR',\n",
       "  'codein': 'BRL',\n",
       "  'name': 'Euro/Real Brasileiro',\n",
       "  'high': '5.5338',\n",
       "  'low': '5.4998',\n",
       "  'varBid': '-0.0253',\n",
       "  'pctChange': '-0.46',\n",
       "  'bid': '5.5039',\n",
       "  'ask': '5.5069',\n",
       "  'timestamp': '1646613962',\n",
       "  'create_date': '2022-03-06 21:46:02'}}"
      ]
     },
     "execution_count": 9,
     "metadata": {},
     "output_type": "execute_result"
    }
   ],
   "source": [
    "cotacao_atual_dict = cotacao_atualizada()\n",
    "cotacao_atual_dict"
   ]
  },
  {
   "cell_type": "markdown",
   "id": "75476fa0",
   "metadata": {},
   "source": [
    "# Mostrando na tela informações da cotação atualizada em um DataFrame"
   ]
  },
  {
   "cell_type": "code",
   "execution_count": 10,
   "id": "4fdc501c",
   "metadata": {},
   "outputs": [
    {
     "data": {
      "text/html": [
       "<div>\n",
       "<style scoped>\n",
       "    .dataframe tbody tr th:only-of-type {\n",
       "        vertical-align: middle;\n",
       "    }\n",
       "\n",
       "    .dataframe tbody tr th {\n",
       "        vertical-align: top;\n",
       "    }\n",
       "\n",
       "    .dataframe thead th {\n",
       "        text-align: right;\n",
       "    }\n",
       "</style>\n",
       "<table border=\"1\" class=\"dataframe\">\n",
       "  <thead>\n",
       "    <tr style=\"text-align: right;\">\n",
       "      <th></th>\n",
       "      <th>EURBRL</th>\n",
       "    </tr>\n",
       "  </thead>\n",
       "  <tbody>\n",
       "    <tr>\n",
       "      <th>ask</th>\n",
       "      <td>5.5069</td>\n",
       "    </tr>\n",
       "    <tr>\n",
       "      <th>bid</th>\n",
       "      <td>5.5039</td>\n",
       "    </tr>\n",
       "    <tr>\n",
       "      <th>code</th>\n",
       "      <td>EUR</td>\n",
       "    </tr>\n",
       "    <tr>\n",
       "      <th>codein</th>\n",
       "      <td>BRL</td>\n",
       "    </tr>\n",
       "    <tr>\n",
       "      <th>create_date</th>\n",
       "      <td>2022-03-06 21:46:02</td>\n",
       "    </tr>\n",
       "    <tr>\n",
       "      <th>high</th>\n",
       "      <td>5.5338</td>\n",
       "    </tr>\n",
       "    <tr>\n",
       "      <th>low</th>\n",
       "      <td>5.4998</td>\n",
       "    </tr>\n",
       "    <tr>\n",
       "      <th>name</th>\n",
       "      <td>Euro/Real Brasileiro</td>\n",
       "    </tr>\n",
       "    <tr>\n",
       "      <th>pctChange</th>\n",
       "      <td>-0.46</td>\n",
       "    </tr>\n",
       "    <tr>\n",
       "      <th>timestamp</th>\n",
       "      <td>1646613962</td>\n",
       "    </tr>\n",
       "    <tr>\n",
       "      <th>varBid</th>\n",
       "      <td>-0.0253</td>\n",
       "    </tr>\n",
       "  </tbody>\n",
       "</table>\n",
       "</div>"
      ],
      "text/plain": [
       "                           EURBRL\n",
       "ask                        5.5069\n",
       "bid                        5.5039\n",
       "code                          EUR\n",
       "codein                        BRL\n",
       "create_date   2022-03-06 21:46:02\n",
       "high                       5.5338\n",
       "low                        5.4998\n",
       "name         Euro/Real Brasileiro\n",
       "pctChange                   -0.46\n",
       "timestamp              1646613962\n",
       "varBid                    -0.0253"
      ]
     },
     "execution_count": 10,
     "metadata": {},
     "output_type": "execute_result"
    }
   ],
   "source": [
    "cotacao_atual_df = pd.DataFrame(cotacao_atual_dict)\n",
    "cotacao_atual_df"
   ]
  },
  {
   "cell_type": "markdown",
   "id": "abcf069c",
   "metadata": {},
   "source": [
    "# Mostrando na tela informações da cotação dos últimos 30 dias em um dicionário"
   ]
  },
  {
   "cell_type": "code",
   "execution_count": 12,
   "id": "ff95ce1b",
   "metadata": {},
   "outputs": [
    {
     "name": "stdout",
     "output_type": "stream",
     "text": [
      "[{'code': 'EUR', 'codein': 'BRL', 'name': 'Euro/Real Brasileiro', 'high': '6.2704', 'low': '6.2598', 'varBid': '-0.0045', 'pctChange': '-0.07', 'bid': '6.2592', 'ask': '6.2626', 'timestamp': '1637722530', 'create_date': '2021-11-23 23:55:30'}, {'high': '6.2329', 'low': '6.2248', 'varBid': '-0.0006', 'pctChange': '-0.01', 'bid': '6.2227', 'ask': '6.229', 'timestamp': '1625799574'}, {'high': '6.7669', 'low': '6.6161', 'varBid': '0.1212', 'pctChange': '1.83', 'bid': '6.7573', 'ask': '6.76', 'timestamp': '1618001897'}, {'high': '6.6375', 'low': '6.6283', 'varBid': '-0.008', 'pctChange': '-0.12', 'bid': '6.6286', 'ask': '6.6303', 'timestamp': '1617937044'}, {'high': '6.6666', 'low': '6.6583', 'varBid': '-0.0005', 'pctChange': '-0.01', 'bid': '6.663', 'ask': '6.6643', 'timestamp': '1617850775'}, {'high': '6.6415', 'low': '6.6356', 'varBid': '-0.0027', 'pctChange': '-0.04', 'bid': '6.6336', 'ask': '6.6382', 'timestamp': '1617764255'}, {'high': '6.6962', 'low': '6.6855', 'varBid': '-0.0013', 'pctChange': '-0.02', 'bid': '6.6868', 'ask': '6.6881', 'timestamp': '1617677863'}, {'high': '6.7195', 'low': '6.7097', 'varBid': '0.0049', 'pctChange': '0.07', 'bid': '6.7154', 'ask': '6.7172', 'timestamp': '1617591468'}, {'high': '6.7287', 'low': '6.7079', 'varBid': '-0.0052', 'pctChange': '-0.08', 'bid': '6.7132', 'ask': '6.7166', 'timestamp': '1617397198'}, {'high': '6.7271', 'low': '6.7187', 'varBid': '0.004', 'pctChange': '0.06', 'bid': '6.7218', 'ask': '6.7265', 'timestamp': '1617332391'}, {'high': '6.783', 'low': '6.5921', 'varBid': '-0.001', 'pctChange': '-0.02', 'bid': '6.6012', 'ask': '6.6059', 'timestamp': '1617245865'}, {'high': '6.7697', 'low': '6.7596', 'varBid': '-0.0043', 'pctChange': '-0.06', 'bid': '6.7583', 'ask': '6.7615', 'timestamp': '1617159509'}, {'high': '6.8082', 'low': '6.8018', 'varBid': '0.0046', 'pctChange': '0.07', 'bid': '6.8012', 'ask': '6.8047', 'timestamp': '1617073068'}, {'high': '6.6472', 'low': '6.6354', 'varBid': '0.0078', 'pctChange': '0.12', 'bid': '6.6458', 'ask': '6.6487', 'timestamp': '1616641164'}, {'high': '6.5454', 'low': '6.5354', 'varBid': '-0.0014', 'pctChange': '-0.02', 'bid': '6.539', 'ask': '6.5418', 'timestamp': '1616554645'}, {'high': '6.5759', 'low': '6.566', 'varBid': '-0.0029', 'pctChange': '-0.04', 'bid': '6.5667', 'ask': '6.568', 'timestamp': '1616468273'}, {'high': '6.5278', 'low': '6.5175', 'varBid': '-0.0025', 'pctChange': '-0.04', 'bid': '6.5264', 'ask': '6.5293', 'timestamp': '1616381978'}, {'high': '6.6379', 'low': '6.487', 'varBid': '-0.0887', 'pctChange': '-1.34', 'bid': '6.5339', 'ask': '6.5391', 'timestamp': '1616187597'}, {'high': '6.523', 'low': '6.5123', 'varBid': '0.0097', 'pctChange': '0.15', 'bid': '6.5216', 'ask': '6.5229', 'timestamp': '1613444242'}, {'high': '6.5156', 'low': '6.5069', 'varBid': '0.0076', 'pctChange': '0.12', 'bid': '6.5141', 'ask': '6.5154', 'timestamp': '1613357894'}, {'high': '6.5465', 'low': '6.4867', 'varBid': '-0.0008', 'pctChange': '-0.01', 'bid': '6.5071', 'ask': '6.5084', 'timestamp': '1613167066'}, {'high': '6.5126', 'low': '6.5037', 'varBid': '-0.004', 'pctChange': '-0.06', 'bid': '6.5031', 'ask': '6.5059', 'timestamp': '1613098717'}, {'high': '6.5287', 'low': '6.5246', 'varBid': '0.0025', 'pctChange': '0.04', 'bid': '6.5273', 'ask': '6.529', 'timestamp': '1613012314'}, {'high': '6.5221', 'low': '6.5125', 'varBid': '0.0047', 'pctChange': '0.07', 'bid': '6.5204', 'ask': '6.5222', 'timestamp': '1612925951'}, {'high': '6.4832', 'low': '6.4633', 'varBid': '0.0175', 'pctChange': '0.27', 'bid': '6.4805', 'ask': '6.4838', 'timestamp': '1612839455'}, {'high': '6.4738', 'low': '6.4607', 'varBid': '-0.0051', 'pctChange': '-0.08', 'bid': '6.4627', 'ask': '6.4655', 'timestamp': '1612753050'}, {'high': '6.5406', 'low': '6.4299', 'varBid': '-0.0202', 'pctChange': '-0.31', 'bid': '6.4697', 'ask': '6.4725', 'timestamp': '1612562394'}, {'high': '6.4972', 'low': '6.4874', 'varBid': '-0.0027', 'pctChange': '-0.04', 'bid': '6.487', 'ask': '6.4901', 'timestamp': '1612493844'}, {'high': '6.4475', 'low': '6.4402', 'varBid': '-0.001', 'pctChange': '-0.01', 'bid': '6.4401', 'ask': '6.4414', 'timestamp': '1612407541'}, {'high': '6.4693', 'low': '6.4607', 'varBid': '0.0036', 'pctChange': '0.05', 'bid': '6.4663', 'ask': '6.468', 'timestamp': '1612321130'}]\n"
     ]
    }
   ],
   "source": [
    "cotacao_ultimos_dias_dict = cotacao_dias_anteriores()\n",
    "print(cotacao_ultimos_dias_dict)\n"
   ]
  },
  {
   "cell_type": "code",
   "execution_count": 13,
   "id": "93b6d7ee",
   "metadata": {},
   "outputs": [
    {
     "name": "stdout",
     "output_type": "stream",
     "text": [
      "[1, 2, 3, 4, 5, 6, 7, 8, 9, 10, 11, 12, 13, 14, 15, 16, 17, 18, 19, 20, 21, 22, 23, 24, 25, 26, 27, 28, 29, 30]\n"
     ]
    }
   ],
   "source": [
    "lista_dias = []\n",
    "for dia in range(1, cotacoes_anteriores+1):\n",
    "    lista_dias.append(dia)\n",
    "print(lista_dias)"
   ]
  },
  {
   "cell_type": "code",
   "execution_count": 14,
   "id": "391a286d",
   "metadata": {},
   "outputs": [],
   "source": [
    "lista_bid_ultimos_dias = []\n",
    "for bid in cotacao_ultimos_dias_dict:\n",
    "    lista_bid_ultimos_dias.append(float(bid['bid']))\n",
    "lista_bid_ultimos_dias.reverse()"
   ]
  },
  {
   "cell_type": "code",
   "execution_count": 15,
   "id": "bf7d0438",
   "metadata": {},
   "outputs": [
    {
     "name": "stdout",
     "output_type": "stream",
     "text": [
      "[6.4663, 6.4401, 6.487, 6.4697, 6.4627, 6.4805, 6.5204, 6.5273, 6.5031, 6.5071, 6.5141, 6.5216, 6.5339, 6.5264, 6.5667, 6.539, 6.6458, 6.8012, 6.7583, 6.6012, 6.7218, 6.7132, 6.7154, 6.6868, 6.6336, 6.663, 6.6286, 6.7573, 6.2227, 6.2592]\n"
     ]
    }
   ],
   "source": [
    "print(lista_bid_ultimos_dias)"
   ]
  },
  {
   "cell_type": "code",
   "execution_count": 16,
   "id": "7190d5ec",
   "metadata": {},
   "outputs": [
    {
     "name": "stdout",
     "output_type": "stream",
     "text": [
      "[(1, 6.4663), (2, 6.4401), (3, 6.487), (4, 6.4697), (5, 6.4627), (6, 6.4805), (7, 6.5204), (8, 6.5273), (9, 6.5031), (10, 6.5071), (11, 6.5141), (12, 6.5216), (13, 6.5339), (14, 6.5264), (15, 6.5667), (16, 6.539), (17, 6.6458), (18, 6.8012), (19, 6.7583), (20, 6.6012), (21, 6.7218), (22, 6.7132), (23, 6.7154), (24, 6.6868), (25, 6.6336), (26, 6.663), (27, 6.6286), (28, 6.7573), (29, 6.2227), (30, 6.2592)]\n"
     ]
    }
   ],
   "source": [
    "lista_axiliar = list(zip(lista_dias,lista_bid_ultimos_dias))\n",
    "print(lista_axiliar)"
   ]
  },
  {
   "cell_type": "markdown",
   "id": "1b6b0166",
   "metadata": {},
   "source": [
    "# Trasformando as informações da cotação dos últimos 30 dias em um DataFrame"
   ]
  },
  {
   "cell_type": "code",
   "execution_count": 17,
   "id": "0753a886",
   "metadata": {},
   "outputs": [],
   "source": [
    "tabela_bid_df = pd.DataFrame(lista_axiliar)\n",
    "tabela_bid_df = tabela_bid_df.rename(columns={0:'Dia',1:\"Bid\"})\n",
    "\n"
   ]
  },
  {
   "cell_type": "markdown",
   "id": "01be0211",
   "metadata": {},
   "source": [
    "# Mostrando na tela informações da cotação dos últimos 30 dias em um DataFrame"
   ]
  },
  {
   "cell_type": "code",
   "execution_count": 18,
   "id": "69b4c670",
   "metadata": {},
   "outputs": [
    {
     "data": {
      "text/html": [
       "<div>\n",
       "<style scoped>\n",
       "    .dataframe tbody tr th:only-of-type {\n",
       "        vertical-align: middle;\n",
       "    }\n",
       "\n",
       "    .dataframe tbody tr th {\n",
       "        vertical-align: top;\n",
       "    }\n",
       "\n",
       "    .dataframe thead th {\n",
       "        text-align: right;\n",
       "    }\n",
       "</style>\n",
       "<table border=\"1\" class=\"dataframe\">\n",
       "  <thead>\n",
       "    <tr style=\"text-align: right;\">\n",
       "      <th></th>\n",
       "      <th>Dia</th>\n",
       "      <th>Bid</th>\n",
       "    </tr>\n",
       "  </thead>\n",
       "  <tbody>\n",
       "    <tr>\n",
       "      <th>0</th>\n",
       "      <td>1</td>\n",
       "      <td>6.4663</td>\n",
       "    </tr>\n",
       "    <tr>\n",
       "      <th>1</th>\n",
       "      <td>2</td>\n",
       "      <td>6.4401</td>\n",
       "    </tr>\n",
       "    <tr>\n",
       "      <th>2</th>\n",
       "      <td>3</td>\n",
       "      <td>6.4870</td>\n",
       "    </tr>\n",
       "    <tr>\n",
       "      <th>3</th>\n",
       "      <td>4</td>\n",
       "      <td>6.4697</td>\n",
       "    </tr>\n",
       "    <tr>\n",
       "      <th>4</th>\n",
       "      <td>5</td>\n",
       "      <td>6.4627</td>\n",
       "    </tr>\n",
       "    <tr>\n",
       "      <th>5</th>\n",
       "      <td>6</td>\n",
       "      <td>6.4805</td>\n",
       "    </tr>\n",
       "    <tr>\n",
       "      <th>6</th>\n",
       "      <td>7</td>\n",
       "      <td>6.5204</td>\n",
       "    </tr>\n",
       "    <tr>\n",
       "      <th>7</th>\n",
       "      <td>8</td>\n",
       "      <td>6.5273</td>\n",
       "    </tr>\n",
       "    <tr>\n",
       "      <th>8</th>\n",
       "      <td>9</td>\n",
       "      <td>6.5031</td>\n",
       "    </tr>\n",
       "    <tr>\n",
       "      <th>9</th>\n",
       "      <td>10</td>\n",
       "      <td>6.5071</td>\n",
       "    </tr>\n",
       "    <tr>\n",
       "      <th>10</th>\n",
       "      <td>11</td>\n",
       "      <td>6.5141</td>\n",
       "    </tr>\n",
       "    <tr>\n",
       "      <th>11</th>\n",
       "      <td>12</td>\n",
       "      <td>6.5216</td>\n",
       "    </tr>\n",
       "    <tr>\n",
       "      <th>12</th>\n",
       "      <td>13</td>\n",
       "      <td>6.5339</td>\n",
       "    </tr>\n",
       "    <tr>\n",
       "      <th>13</th>\n",
       "      <td>14</td>\n",
       "      <td>6.5264</td>\n",
       "    </tr>\n",
       "    <tr>\n",
       "      <th>14</th>\n",
       "      <td>15</td>\n",
       "      <td>6.5667</td>\n",
       "    </tr>\n",
       "    <tr>\n",
       "      <th>15</th>\n",
       "      <td>16</td>\n",
       "      <td>6.5390</td>\n",
       "    </tr>\n",
       "    <tr>\n",
       "      <th>16</th>\n",
       "      <td>17</td>\n",
       "      <td>6.6458</td>\n",
       "    </tr>\n",
       "    <tr>\n",
       "      <th>17</th>\n",
       "      <td>18</td>\n",
       "      <td>6.8012</td>\n",
       "    </tr>\n",
       "    <tr>\n",
       "      <th>18</th>\n",
       "      <td>19</td>\n",
       "      <td>6.7583</td>\n",
       "    </tr>\n",
       "    <tr>\n",
       "      <th>19</th>\n",
       "      <td>20</td>\n",
       "      <td>6.6012</td>\n",
       "    </tr>\n",
       "    <tr>\n",
       "      <th>20</th>\n",
       "      <td>21</td>\n",
       "      <td>6.7218</td>\n",
       "    </tr>\n",
       "    <tr>\n",
       "      <th>21</th>\n",
       "      <td>22</td>\n",
       "      <td>6.7132</td>\n",
       "    </tr>\n",
       "    <tr>\n",
       "      <th>22</th>\n",
       "      <td>23</td>\n",
       "      <td>6.7154</td>\n",
       "    </tr>\n",
       "    <tr>\n",
       "      <th>23</th>\n",
       "      <td>24</td>\n",
       "      <td>6.6868</td>\n",
       "    </tr>\n",
       "    <tr>\n",
       "      <th>24</th>\n",
       "      <td>25</td>\n",
       "      <td>6.6336</td>\n",
       "    </tr>\n",
       "    <tr>\n",
       "      <th>25</th>\n",
       "      <td>26</td>\n",
       "      <td>6.6630</td>\n",
       "    </tr>\n",
       "    <tr>\n",
       "      <th>26</th>\n",
       "      <td>27</td>\n",
       "      <td>6.6286</td>\n",
       "    </tr>\n",
       "    <tr>\n",
       "      <th>27</th>\n",
       "      <td>28</td>\n",
       "      <td>6.7573</td>\n",
       "    </tr>\n",
       "    <tr>\n",
       "      <th>28</th>\n",
       "      <td>29</td>\n",
       "      <td>6.2227</td>\n",
       "    </tr>\n",
       "    <tr>\n",
       "      <th>29</th>\n",
       "      <td>30</td>\n",
       "      <td>6.2592</td>\n",
       "    </tr>\n",
       "  </tbody>\n",
       "</table>\n",
       "</div>"
      ],
      "text/plain": [
       "    Dia     Bid\n",
       "0     1  6.4663\n",
       "1     2  6.4401\n",
       "2     3  6.4870\n",
       "3     4  6.4697\n",
       "4     5  6.4627\n",
       "5     6  6.4805\n",
       "6     7  6.5204\n",
       "7     8  6.5273\n",
       "8     9  6.5031\n",
       "9    10  6.5071\n",
       "10   11  6.5141\n",
       "11   12  6.5216\n",
       "12   13  6.5339\n",
       "13   14  6.5264\n",
       "14   15  6.5667\n",
       "15   16  6.5390\n",
       "16   17  6.6458\n",
       "17   18  6.8012\n",
       "18   19  6.7583\n",
       "19   20  6.6012\n",
       "20   21  6.7218\n",
       "21   22  6.7132\n",
       "22   23  6.7154\n",
       "23   24  6.6868\n",
       "24   25  6.6336\n",
       "25   26  6.6630\n",
       "26   27  6.6286\n",
       "27   28  6.7573\n",
       "28   29  6.2227\n",
       "29   30  6.2592"
      ]
     },
     "execution_count": 18,
     "metadata": {},
     "output_type": "execute_result"
    }
   ],
   "source": [
    "tabela_bid_df\n"
   ]
  },
  {
   "cell_type": "markdown",
   "id": "2a14d762",
   "metadata": {},
   "source": [
    "# Mostrando em um gráfico a cotação dos últimos 30 dias do BID"
   ]
  },
  {
   "cell_type": "code",
   "execution_count": 19,
   "id": "2a8dfb09",
   "metadata": {},
   "outputs": [
    {
     "data": {
      "image/png": "[encoded data removed]",
      "text/plain": [
       "<Figure size 1080x360 with 1 Axes>"
      ]
     },
     "metadata": {
      "needs_background": "light"
     },
     "output_type": "display_data"
    }
   ],
   "source": [
    "plt.figure(figsize=(15,5))\n",
    "plt.plot(tabela_bid_df['Bid'])\n",
    "plt.axis([1,30,4.6,6.0])\n",
    "plt.ylabel('Valor Bid')\n",
    "plt.xlabel('Dia')\n",
    "\n",
    "plt.show()\n"
   ]
  },
  {
   "cell_type": "markdown",
   "id": "fba3e184",
   "metadata": {},
   "source": [
    "# Pegando a cotação do BID dentro de 1 ano e passando para um dicionário"
   ]
  },
  {
   "cell_type": "code",
   "execution_count": null,
   "id": "76b1be7f",
   "metadata": {},
   "outputs": [],
   "source": [
    "cotacao_bid_data_dict = cotacao_por_data()"
   ]
  },
  {
   "cell_type": "code",
   "execution_count": null,
   "id": "7d7f6b2f",
   "metadata": {},
   "outputs": [],
   "source": [
    "lista_bid_data = []\n",
    "for bid in cotacao_bid_data_dict:\n",
    "    lista_bid_data.append(float(bid['bid']))\n",
    "lista_bid_data.reverse()"
   ]
  },
  {
   "cell_type": "code",
   "execution_count": null,
   "id": "57a7fd54",
   "metadata": {},
   "outputs": [],
   "source": [
    "print(lista_bid_data)"
   ]
  },
  {
   "cell_type": "markdown",
   "id": "30334969",
   "metadata": {},
   "source": [
    "# Mostrando em um gráfico os valores do BID em 1 ano"
   ]
  },
  {
   "cell_type": "code",
   "execution_count": null,
   "id": "9a92b556",
   "metadata": {},
   "outputs": [],
   "source": [
    "plt.figure(figsize=(15,5))\n",
    "plt.plot(lista_bid_data)\n",
    "plt.xlabel('Valor Bid')\n",
    "plt.ylabel('Dias')\n",
    "plt.axis([1,350,4.85,6.00])\n",
    "plt.show()"
   ]
  },
  {
   "cell_type": "markdown",
   "id": "e8ab5ca1",
   "metadata": {},
   "source": [
    "# Legendas\n",
    "## Bid = Compra\n",
    "## Ask = Venda\n",
    "## VarBid = Variação\n",
    "## pctChange = Porcentagem de Variação\n",
    "## High = Maximo\n",
    "## Low = Mínimo"
   ]
  }
 ],
 "metadata": {
  "kernelspec": {
   "display_name": "Python 3 (ipykernel)",
   "language": "python",
   "name": "python3"
  },
  "language_info": {
   "codemirror_mode": {
    "name": "ipython",
    "version": 3
   },
   "file_extension": ".py",
   "mimetype": "text/x-python",
   "name": "python",
   "nbconvert_exporter": "python",
   "pygments_lexer": "ipython3",
   "version": "3.8.10"
  }
 },
 "nbformat": 4,
 "nbformat_minor": 5
}
