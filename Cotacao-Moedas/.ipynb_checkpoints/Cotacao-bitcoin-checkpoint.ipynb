{
 "cells": [
  {
   "cell_type": "markdown",
   "id": "a1a805f9",
   "metadata": {},
   "source": [
    "# Link utilizado para pegar as cotações das moedas:https://docs.awesomeapi.com.br/api-de-moedas#legendas\n"
   ]
  },
  {
   "cell_type": "markdown",
   "id": "39347b78",
   "metadata": {},
   "source": [
    "# Importando Bibliotecas utilizadas no projeto"
   ]
  },
  {
   "cell_type": "code",
   "execution_count": 2,
   "id": "e8775260",
   "metadata": {},
   "outputs": [],
   "source": [
    "import requests\n",
    "import json\n",
    "import pandas as pd\n",
    "import matplotlib.pyplot as plt"
   ]
  },
  {
   "cell_type": "markdown",
   "id": "0d6ec5aa",
   "metadata": {},
   "source": [
    "# Solicitando as informações ao usuário de qual moeda fazer a cotação"
   ]
  },
  {
   "cell_type": "code",
   "execution_count": 3,
   "id": "db7d19f1",
   "metadata": {},
   "outputs": [
    {
     "name": "stdout",
     "output_type": "stream",
     "text": [
      "Qual moeda fazer cotação: BTC\n"
     ]
    }
   ],
   "source": [
    "cotacao_moeda = str(input('Qual moeda fazer cotação: '))"
   ]
  },
  {
   "cell_type": "markdown",
   "id": "c6d780f8",
   "metadata": {},
   "source": [
    "# Solicitando as informações ao usuário de quantos dias anteriores fazer a cotação do BID"
   ]
  },
  {
   "cell_type": "code",
   "execution_count": 4,
   "id": "96ff66dd",
   "metadata": {},
   "outputs": [
    {
     "name": "stdout",
     "output_type": "stream",
     "text": [
      "Pegar cotação de quantos dias anteriores: 30\n"
     ]
    }
   ],
   "source": [
    "cotacoes_anteriores = int(input('Pegar cotação de quantos dias anteriores: '))"
   ]
  },
  {
   "cell_type": "markdown",
   "id": "ee593863",
   "metadata": {},
   "source": [
    "# Solicitando as informações ao usuário de qual determinado tempo fazer a cotação do BID"
   ]
  },
  {
   "cell_type": "code",
   "execution_count": 5,
   "id": "ea715495",
   "metadata": {},
   "outputs": [
    {
     "name": "stdout",
     "output_type": "stream",
     "text": [
      "Data de inicio: 20210306\n",
      "Data final: 20220306\n"
     ]
    }
   ],
   "source": [
    "data_cotacao_inicio = str(input('Data de inicio: '))\n",
    "data_cotacao_final = str(input('Data final: '))"
   ]
  },
  {
   "cell_type": "markdown",
   "id": "c9b3d0ad",
   "metadata": {},
   "source": [
    "# Trasformando a URL da API em uma constante"
   ]
  },
  {
   "cell_type": "code",
   "execution_count": 6,
   "id": "a72be7d4",
   "metadata": {},
   "outputs": [],
   "source": [
    "url_cotacao_atualizada = f\"https://economia.awesomeapi.com.br/json/last/{cotacao_moeda}-BRL\"\n",
    "url_cotacao_dias_anteriores = f\"https://economia.awesomeapi.com.br/json/daily/{cotacao_moeda}-BRL/{cotacoes_anteriores}\"\n",
    "url_cotacao_determinada_data = f\"https://economia.awesomeapi.com.br/{cotacao_moeda}-BRL/365?start_date={data_cotacao_inicio}&end_date={data_cotacao_final}\""
   ]
  },
  {
   "cell_type": "markdown",
   "id": "89e0c3d6",
   "metadata": {},
   "source": [
    "# Criando a função que puxa os dados atualizados da API"
   ]
  },
  {
   "cell_type": "code",
   "execution_count": 7,
   "id": "952b06a9",
   "metadata": {},
   "outputs": [],
   "source": [
    "def cotacao_atualizada():\n",
    "    r = requests.get(url_cotacao_atualizada)\n",
    "    r_json = r.json()\n",
    "    return r.json()"
   ]
  },
  {
   "cell_type": "markdown",
   "id": "c94dfe87",
   "metadata": {},
   "source": [
    "# Criando a função que puxa os dados dos dias anteriores da API"
   ]
  },
  {
   "cell_type": "code",
   "execution_count": 8,
   "id": "a7e5a0a9",
   "metadata": {},
   "outputs": [],
   "source": [
    "def cotacao_dias_anteriores():\n",
    "    r = requests.get(url_cotacao_dias_anteriores)\n",
    "    r_json = r.json()\n",
    "    return r.json()"
   ]
  },
  {
   "cell_type": "markdown",
   "id": "aefc1aea",
   "metadata": {},
   "source": [
    "# Criando a função que puxa os dados de determinada data na API"
   ]
  },
  {
   "cell_type": "code",
   "execution_count": 9,
   "id": "1e4622d3",
   "metadata": {},
   "outputs": [],
   "source": [
    "def cotacao_por_data():\n",
    "    r = requests.get(url_cotacao_determinada_data)\n",
    "    r_json = r.json()\n",
    "    return r_json"
   ]
  },
  {
   "cell_type": "markdown",
   "id": "2f69327a",
   "metadata": {},
   "source": [
    "# Mostrando na tela informações da cotação atualizada em um dicionário"
   ]
  },
  {
   "cell_type": "code",
   "execution_count": 10,
   "id": "fe40fd71",
   "metadata": {},
   "outputs": [
    {
     "data": {
      "text/plain": [
       "{'BTCBRL': {'code': 'BTC',\n",
       "  'codein': 'BRL',\n",
       "  'name': 'Bitcoin/Real Brasileiro',\n",
       "  'high': '202.957',\n",
       "  'low': '195.256',\n",
       "  'varBid': '-4978',\n",
       "  'pctChange': '-2.46',\n",
       "  'bid': '197.351',\n",
       "  'ask': '197.485',\n",
       "  'timestamp': '1646616411',\n",
       "  'create_date': '2022-03-06 22:26:51'}}"
      ]
     },
     "execution_count": 10,
     "metadata": {},
     "output_type": "execute_result"
    }
   ],
   "source": [
    "cotacao_atual_dict = cotacao_atualizada()\n",
    "cotacao_atual_dict"
   ]
  },
  {
   "cell_type": "markdown",
   "id": "75476fa0",
   "metadata": {},
   "source": [
    "# Mostrando na tela informações da cotação atualizada em um DataFrame"
   ]
  },
  {
   "cell_type": "code",
   "execution_count": 11,
   "id": "4fdc501c",
   "metadata": {},
   "outputs": [
    {
     "data": {
      "text/html": [
       "<div>\n",
       "<style scoped>\n",
       "    .dataframe tbody tr th:only-of-type {\n",
       "        vertical-align: middle;\n",
       "    }\n",
       "\n",
       "    .dataframe tbody tr th {\n",
       "        vertical-align: top;\n",
       "    }\n",
       "\n",
       "    .dataframe thead th {\n",
       "        text-align: right;\n",
       "    }\n",
       "</style>\n",
       "<table border=\"1\" class=\"dataframe\">\n",
       "  <thead>\n",
       "    <tr style=\"text-align: right;\">\n",
       "      <th></th>\n",
       "      <th>BTCBRL</th>\n",
       "    </tr>\n",
       "  </thead>\n",
       "  <tbody>\n",
       "    <tr>\n",
       "      <th>ask</th>\n",
       "      <td>197.485</td>\n",
       "    </tr>\n",
       "    <tr>\n",
       "      <th>bid</th>\n",
       "      <td>197.351</td>\n",
       "    </tr>\n",
       "    <tr>\n",
       "      <th>code</th>\n",
       "      <td>BTC</td>\n",
       "    </tr>\n",
       "    <tr>\n",
       "      <th>codein</th>\n",
       "      <td>BRL</td>\n",
       "    </tr>\n",
       "    <tr>\n",
       "      <th>create_date</th>\n",
       "      <td>2022-03-06 22:26:51</td>\n",
       "    </tr>\n",
       "    <tr>\n",
       "      <th>high</th>\n",
       "      <td>202.957</td>\n",
       "    </tr>\n",
       "    <tr>\n",
       "      <th>low</th>\n",
       "      <td>195.256</td>\n",
       "    </tr>\n",
       "    <tr>\n",
       "      <th>name</th>\n",
       "      <td>Bitcoin/Real Brasileiro</td>\n",
       "    </tr>\n",
       "    <tr>\n",
       "      <th>pctChange</th>\n",
       "      <td>-2.46</td>\n",
       "    </tr>\n",
       "    <tr>\n",
       "      <th>timestamp</th>\n",
       "      <td>1646616411</td>\n",
       "    </tr>\n",
       "    <tr>\n",
       "      <th>varBid</th>\n",
       "      <td>-4978</td>\n",
       "    </tr>\n",
       "  </tbody>\n",
       "</table>\n",
       "</div>"
      ],
      "text/plain": [
       "                              BTCBRL\n",
       "ask                          197.485\n",
       "bid                          197.351\n",
       "code                             BTC\n",
       "codein                           BRL\n",
       "create_date      2022-03-06 22:26:51\n",
       "high                         202.957\n",
       "low                          195.256\n",
       "name         Bitcoin/Real Brasileiro\n",
       "pctChange                      -2.46\n",
       "timestamp                 1646616411\n",
       "varBid                         -4978"
      ]
     },
     "execution_count": 11,
     "metadata": {},
     "output_type": "execute_result"
    }
   ],
   "source": [
    "cotacao_atual_df = pd.DataFrame(cotacao_atual_dict)\n",
    "cotacao_atual_df"
   ]
  },
  {
   "cell_type": "markdown",
   "id": "abcf069c",
   "metadata": {},
   "source": [
    "# Mostrando na tela informações da cotação dos últimos 30 dias em um dicionário"
   ]
  },
  {
   "cell_type": "code",
   "execution_count": 12,
   "id": "ff95ce1b",
   "metadata": {},
   "outputs": [
    {
     "name": "stdout",
     "output_type": "stream",
     "text": [
      "[{'code': 'BTC', 'codein': 'BRL', 'name': 'Bitcoin/Real Brasileiro', 'high': '281.4', 'low': '267.55', 'varBid': '-5765', 'pctChange': '-2.06', 'bid': '274.238', 'ask': '274.308', 'timestamp': '1639105051', 'create_date': '2021-12-09 23:57:31'}, {'high': '287', 'low': '276.436', 'varBid': '-7000', 'pctChange': '-2.44', 'bid': '280.013', 'ask': '280.013', 'timestamp': '1639018748'}, {'high': '297.148', 'low': '283.872', 'varBid': '-5424', 'pctChange': '-1.86', 'bid': '286.195', 'ask': '286.262', 'timestamp': '1638932356'}, {'high': '294.468', 'low': '270.15', 'varBid': '11554', 'pctChange': '4.12', 'bid': '291.627', 'ask': '291.724', 'timestamp': '1638845161'}, {'high': '287.51', 'low': '274', 'varBid': '-3767', 'pctChange': '-1.33', 'bid': '279.474', 'ask': '279.82', 'timestamp': '1638759034'}, {'high': '304.288', 'low': '267', 'varBid': '-20941', 'pctChange': '-6.88', 'bid': '283.347', 'ask': '283.347', 'timestamp': '1638672860'}, {'high': '326', 'low': '300', 'varBid': '-15793', 'pctChange': '-4.93', 'bid': '304.288', 'ask': '304.288', 'timestamp': '1638586680'}, {'high': '326.028', 'low': '319', 'varBid': '-5318', 'pctChange': '-1.63', 'bid': '320.361', 'ask': '320.506', 'timestamp': '1638500241'}, {'high': '333', 'low': '321.218', 'varBid': '1092', 'pctChange': '0.34', 'bid': '325.002', 'ask': '325.825', 'timestamp': '1638413790'}, {'high': '332.393', 'low': '321.6', 'varBid': '-228', 'pctChange': '-0.07', 'bid': '323.752', 'ask': '324', 'timestamp': '1638240231'}, {'high': '329', 'low': '306', 'varBid': '15578', 'pctChange': '5.05', 'bid': '324.228', 'ask': '324.633', 'timestamp': '1638154364'}, {'high': '314.36', 'low': '307', 'varBid': '-840', 'pctChange': '-0.27', 'bid': '308.65', 'ask': '309.025', 'timestamp': '1638068176'}, {'high': '328.348', 'low': '304.099', 'varBid': '-21101', 'pctChange': '-6.38', 'bid': '309.489', 'ask': '309.599', 'timestamp': '1637981765'}, {'high': '329.089', 'low': '317.2', 'varBid': '9049', 'pctChange': '2.84', 'bid': '327.091', 'ask': '327.23', 'timestamp': '1637809157'}, {'high': '339.551', 'low': '326.998', 'varBid': '376', 'pctChange': '0.11', 'bid': '335.024', 'ask': '335.36', 'timestamp': '1637463596'}, {'high': '340.9', 'low': '330.3', 'varBid': '6154', 'pctChange': '1.85', 'bid': '338.821', 'ask': '339.645', 'timestamp': '1637204060'}, {'high': '345.665', 'low': '328.09', 'varBid': '-11006', 'pctChange': '-3.21', 'bid': '332.666', 'ask': '332.666', 'timestamp': '1637117964'}, {'high': '349', 'low': '339', 'varBid': '4378', 'pctChange': '1.27', 'bid': '347.65', 'ask': '347.8', 'timestamp': '1636253977'}, {'high': '355', 'low': '341.523', 'varBid': '4000', 'pctChange': '1.15', 'bid': '351', 'ask': '351.4', 'timestamp': '1635562499'}, {'high': '359.855', 'low': '349.8', 'varBid': '-1476', 'pctChange': '-0.42', 'bid': '350.553', 'ask': '351.125', 'timestamp': '1635216968'}, {'high': '354.394', 'low': '340.3', 'varBid': '4863', 'pctChange': '1.4', 'bid': '352.163', 'ask': '352.251', 'timestamp': '1635130670'}, {'high': '369.369', 'low': '350', 'varBid': '-7920', 'pctChange': '-2.19', 'bid': '354.504', 'ask': '354.754', 'timestamp': '1634871359'}, {'high': '305', 'low': '299.1', 'varBid': '2090', 'pctChange': '0.7', 'bid': '301.59', 'ask': '301.695', 'timestamp': '1633832625'}, {'high': '301.7', 'low': '290.084', 'varBid': '-842', 'pctChange': '-0.28', 'bid': '297.4', 'ask': '297.672', 'timestamp': '1633660090'}, {'high': '302', 'low': '274', 'varBid': '19460', 'pctChange': '6.94', 'bid': '300.006', 'ask': '300.97', 'timestamp': '1633575249'}, {'high': '282.778', 'low': '265.383', 'varBid': '13688', 'pctChange': '5.13', 'bid': '280.532', 'ask': '281.37', 'timestamp': '1633489066'}, {'high': '257.101', 'low': '251.3', 'varBid': '-686', 'pctChange': '-0.27', 'bid': '253.945', 'ask': '253.945', 'timestamp': '1633229870'}, {'high': '239', 'low': '230.408', 'varBid': '351', 'pctChange': '0.15', 'bid': '234.858', 'ask': '234.881', 'timestamp': '1633056792'}, {'high': '230.496', 'low': '223.465', 'varBid': '-1217', 'pctChange': '-0.53', 'bid': '227.891', 'ask': '227.9', 'timestamp': '1632884326'}, {'high': '232.135', 'low': '225.75', 'varBid': '-1484', 'pctChange': '-0.65', 'bid': '227.574', 'ask': '227.577', 'timestamp': '1632624675'}]\n"
     ]
    }
   ],
   "source": [
    "cotacao_ultimos_dias_dict = cotacao_dias_anteriores()\n",
    "print(cotacao_ultimos_dias_dict)\n"
   ]
  },
  {
   "cell_type": "code",
   "execution_count": 13,
   "id": "93b6d7ee",
   "metadata": {},
   "outputs": [
    {
     "name": "stdout",
     "output_type": "stream",
     "text": [
      "[1, 2, 3, 4, 5, 6, 7, 8, 9, 10, 11, 12, 13, 14, 15, 16, 17, 18, 19, 20, 21, 22, 23, 24, 25, 26, 27, 28, 29, 30]\n"
     ]
    }
   ],
   "source": [
    "lista_dias = []\n",
    "for dia in range(1, cotacoes_anteriores+1):\n",
    "    lista_dias.append(dia)\n",
    "print(lista_dias)"
   ]
  },
  {
   "cell_type": "code",
   "execution_count": 14,
   "id": "391a286d",
   "metadata": {},
   "outputs": [],
   "source": [
    "lista_bid_ultimos_dias = []\n",
    "for bid in cotacao_ultimos_dias_dict:\n",
    "    lista_bid_ultimos_dias.append(float(bid['bid']))\n",
    "lista_bid_ultimos_dias.reverse()"
   ]
  },
  {
   "cell_type": "code",
   "execution_count": 15,
   "id": "bf7d0438",
   "metadata": {},
   "outputs": [
    {
     "name": "stdout",
     "output_type": "stream",
     "text": [
      "[227.574, 227.891, 234.858, 253.945, 280.532, 300.006, 297.4, 301.59, 354.504, 352.163, 350.553, 351.0, 347.65, 332.666, 338.821, 335.024, 327.091, 309.489, 308.65, 324.228, 323.752, 325.002, 320.361, 304.288, 283.347, 279.474, 291.627, 286.195, 280.013, 274.238]\n"
     ]
    }
   ],
   "source": [
    "print(lista_bid_ultimos_dias)"
   ]
  },
  {
   "cell_type": "code",
   "execution_count": 16,
   "id": "7190d5ec",
   "metadata": {},
   "outputs": [
    {
     "name": "stdout",
     "output_type": "stream",
     "text": [
      "[(1, 227.574), (2, 227.891), (3, 234.858), (4, 253.945), (5, 280.532), (6, 300.006), (7, 297.4), (8, 301.59), (9, 354.504), (10, 352.163), (11, 350.553), (12, 351.0), (13, 347.65), (14, 332.666), (15, 338.821), (16, 335.024), (17, 327.091), (18, 309.489), (19, 308.65), (20, 324.228), (21, 323.752), (22, 325.002), (23, 320.361), (24, 304.288), (25, 283.347), (26, 279.474), (27, 291.627), (28, 286.195), (29, 280.013), (30, 274.238)]\n"
     ]
    }
   ],
   "source": [
    "lista_axiliar = list(zip(lista_dias,lista_bid_ultimos_dias))\n",
    "print(lista_axiliar)"
   ]
  },
  {
   "cell_type": "markdown",
   "id": "1b6b0166",
   "metadata": {},
   "source": [
    "# Trasformando as informações da cotação dos últimos 30 dias em um DataFrame"
   ]
  },
  {
   "cell_type": "code",
   "execution_count": 17,
   "id": "0753a886",
   "metadata": {},
   "outputs": [],
   "source": [
    "tabela_bid_df = pd.DataFrame(lista_axiliar)\n",
    "tabela_bid_df = tabela_bid_df.rename(columns={0:'Dia',1:\"Bid\"})\n",
    "\n"
   ]
  },
  {
   "cell_type": "markdown",
   "id": "01be0211",
   "metadata": {},
   "source": [
    "# Mostrando na tela informações da cotação dos últimos 30 dias em um DataFrame"
   ]
  },
  {
   "cell_type": "code",
   "execution_count": 18,
   "id": "69b4c670",
   "metadata": {},
   "outputs": [
    {
     "data": {
      "text/html": [
       "<div>\n",
       "<style scoped>\n",
       "    .dataframe tbody tr th:only-of-type {\n",
       "        vertical-align: middle;\n",
       "    }\n",
       "\n",
       "    .dataframe tbody tr th {\n",
       "        vertical-align: top;\n",
       "    }\n",
       "\n",
       "    .dataframe thead th {\n",
       "        text-align: right;\n",
       "    }\n",
       "</style>\n",
       "<table border=\"1\" class=\"dataframe\">\n",
       "  <thead>\n",
       "    <tr style=\"text-align: right;\">\n",
       "      <th></th>\n",
       "      <th>Dia</th>\n",
       "      <th>Bid</th>\n",
       "    </tr>\n",
       "  </thead>\n",
       "  <tbody>\n",
       "    <tr>\n",
       "      <th>0</th>\n",
       "      <td>1</td>\n",
       "      <td>227.574</td>\n",
       "    </tr>\n",
       "    <tr>\n",
       "      <th>1</th>\n",
       "      <td>2</td>\n",
       "      <td>227.891</td>\n",
       "    </tr>\n",
       "    <tr>\n",
       "      <th>2</th>\n",
       "      <td>3</td>\n",
       "      <td>234.858</td>\n",
       "    </tr>\n",
       "    <tr>\n",
       "      <th>3</th>\n",
       "      <td>4</td>\n",
       "      <td>253.945</td>\n",
       "    </tr>\n",
       "    <tr>\n",
       "      <th>4</th>\n",
       "      <td>5</td>\n",
       "      <td>280.532</td>\n",
       "    </tr>\n",
       "    <tr>\n",
       "      <th>5</th>\n",
       "      <td>6</td>\n",
       "      <td>300.006</td>\n",
       "    </tr>\n",
       "    <tr>\n",
       "      <th>6</th>\n",
       "      <td>7</td>\n",
       "      <td>297.400</td>\n",
       "    </tr>\n",
       "    <tr>\n",
       "      <th>7</th>\n",
       "      <td>8</td>\n",
       "      <td>301.590</td>\n",
       "    </tr>\n",
       "    <tr>\n",
       "      <th>8</th>\n",
       "      <td>9</td>\n",
       "      <td>354.504</td>\n",
       "    </tr>\n",
       "    <tr>\n",
       "      <th>9</th>\n",
       "      <td>10</td>\n",
       "      <td>352.163</td>\n",
       "    </tr>\n",
       "    <tr>\n",
       "      <th>10</th>\n",
       "      <td>11</td>\n",
       "      <td>350.553</td>\n",
       "    </tr>\n",
       "    <tr>\n",
       "      <th>11</th>\n",
       "      <td>12</td>\n",
       "      <td>351.000</td>\n",
       "    </tr>\n",
       "    <tr>\n",
       "      <th>12</th>\n",
       "      <td>13</td>\n",
       "      <td>347.650</td>\n",
       "    </tr>\n",
       "    <tr>\n",
       "      <th>13</th>\n",
       "      <td>14</td>\n",
       "      <td>332.666</td>\n",
       "    </tr>\n",
       "    <tr>\n",
       "      <th>14</th>\n",
       "      <td>15</td>\n",
       "      <td>338.821</td>\n",
       "    </tr>\n",
       "    <tr>\n",
       "      <th>15</th>\n",
       "      <td>16</td>\n",
       "      <td>335.024</td>\n",
       "    </tr>\n",
       "    <tr>\n",
       "      <th>16</th>\n",
       "      <td>17</td>\n",
       "      <td>327.091</td>\n",
       "    </tr>\n",
       "    <tr>\n",
       "      <th>17</th>\n",
       "      <td>18</td>\n",
       "      <td>309.489</td>\n",
       "    </tr>\n",
       "    <tr>\n",
       "      <th>18</th>\n",
       "      <td>19</td>\n",
       "      <td>308.650</td>\n",
       "    </tr>\n",
       "    <tr>\n",
       "      <th>19</th>\n",
       "      <td>20</td>\n",
       "      <td>324.228</td>\n",
       "    </tr>\n",
       "    <tr>\n",
       "      <th>20</th>\n",
       "      <td>21</td>\n",
       "      <td>323.752</td>\n",
       "    </tr>\n",
       "    <tr>\n",
       "      <th>21</th>\n",
       "      <td>22</td>\n",
       "      <td>325.002</td>\n",
       "    </tr>\n",
       "    <tr>\n",
       "      <th>22</th>\n",
       "      <td>23</td>\n",
       "      <td>320.361</td>\n",
       "    </tr>\n",
       "    <tr>\n",
       "      <th>23</th>\n",
       "      <td>24</td>\n",
       "      <td>304.288</td>\n",
       "    </tr>\n",
       "    <tr>\n",
       "      <th>24</th>\n",
       "      <td>25</td>\n",
       "      <td>283.347</td>\n",
       "    </tr>\n",
       "    <tr>\n",
       "      <th>25</th>\n",
       "      <td>26</td>\n",
       "      <td>279.474</td>\n",
       "    </tr>\n",
       "    <tr>\n",
       "      <th>26</th>\n",
       "      <td>27</td>\n",
       "      <td>291.627</td>\n",
       "    </tr>\n",
       "    <tr>\n",
       "      <th>27</th>\n",
       "      <td>28</td>\n",
       "      <td>286.195</td>\n",
       "    </tr>\n",
       "    <tr>\n",
       "      <th>28</th>\n",
       "      <td>29</td>\n",
       "      <td>280.013</td>\n",
       "    </tr>\n",
       "    <tr>\n",
       "      <th>29</th>\n",
       "      <td>30</td>\n",
       "      <td>274.238</td>\n",
       "    </tr>\n",
       "  </tbody>\n",
       "</table>\n",
       "</div>"
      ],
      "text/plain": [
       "    Dia      Bid\n",
       "0     1  227.574\n",
       "1     2  227.891\n",
       "2     3  234.858\n",
       "3     4  253.945\n",
       "4     5  280.532\n",
       "5     6  300.006\n",
       "6     7  297.400\n",
       "7     8  301.590\n",
       "8     9  354.504\n",
       "9    10  352.163\n",
       "10   11  350.553\n",
       "11   12  351.000\n",
       "12   13  347.650\n",
       "13   14  332.666\n",
       "14   15  338.821\n",
       "15   16  335.024\n",
       "16   17  327.091\n",
       "17   18  309.489\n",
       "18   19  308.650\n",
       "19   20  324.228\n",
       "20   21  323.752\n",
       "21   22  325.002\n",
       "22   23  320.361\n",
       "23   24  304.288\n",
       "24   25  283.347\n",
       "25   26  279.474\n",
       "26   27  291.627\n",
       "27   28  286.195\n",
       "28   29  280.013\n",
       "29   30  274.238"
      ]
     },
     "execution_count": 18,
     "metadata": {},
     "output_type": "execute_result"
    }
   ],
   "source": [
    "tabela_bid_df"
   ]
  },
  {
   "cell_type": "markdown",
   "id": "2a14d762",
   "metadata": {},
   "source": [
    "# Mostrando em um gráfico a cotação dos últimos 30 dias do BID"
   ]
  },
  {
   "cell_type": "code",
   "execution_count": 21,
   "id": "2a8dfb09",
   "metadata": {},
   "outputs": [
    {
     "data": {
      "image/png": "[encoded data removed]",
      "text/plain": [
       "<Figure size 1080x360 with 1 Axes>"
      ]
     },
     "metadata": {
      "needs_background": "light"
     },
     "output_type": "display_data"
    }
   ],
   "source": [
    "plt.figure(figsize=(15,5))\n",
    "plt.plot(tabela_bid_df['Bid'])\n",
    "plt.axis([1,30,195,400])\n",
    "plt.ylabel('Valor Bid x1000')\n",
    "plt.xlabel('Dia')\n",
    "\n",
    "plt.show()\n"
   ]
  },
  {
   "cell_type": "markdown",
   "id": "fba3e184",
   "metadata": {},
   "source": [
    "# Pegando a cotação do BID dentro de 1 ano e passando para um dicionário"
   ]
  },
  {
   "cell_type": "code",
   "execution_count": 26,
   "id": "76b1be7f",
   "metadata": {},
   "outputs": [],
   "source": [
    "cotacao_bid_data_dict = cotacao_por_data()"
   ]
  },
  {
   "cell_type": "code",
   "execution_count": 27,
   "id": "7d7f6b2f",
   "metadata": {},
   "outputs": [],
   "source": [
    "lista_bid_data = []\n",
    "for bid in cotacao_bid_data_dict:\n",
    "    lista_bid_data.append(float(bid['bid']))\n",
    "lista_bid_data.reverse()"
   ]
  },
  {
   "cell_type": "code",
   "execution_count": 28,
   "id": "57a7fd54",
   "metadata": {},
   "outputs": [
    {
     "name": "stdout",
     "output_type": "stream",
     "text": [
      "[6.2069, 6.1866, 6.1514, 6.1525, 6.1546, 6.1552, 6.1525, 6.1055, 6.106, 6.1049, 6.0245, 6.0234, 6.025, 6.0122, 5.9836, 5.9841, 5.9793, 5.9804, 5.9804, 5.9804, 5.9804, 5.9804, 5.9804, 5.9804, 5.9804, 5.9804, 5.9804, 5.9804, 5.9804, 5.9804, 5.9809, 5.9809, 5.9809, 5.9809, 5.9809, 5.9809, 5.9809, 5.9809, 5.9809, 5.9809, 5.9809, 5.9809, 5.9809, 5.9809, 5.9809, 5.9798, 5.9814, 5.9809, 5.9857, 5.9911, 5.9981, 5.9981, 5.9991, 5.9943, 5.99, 5.9586, 5.9586, 5.957, 5.9565, 5.9342, 5.9347, 5.9374, 5.9363, 5.9363, 5.9358, 5.9432, 5.9569, 5.9916, 5.972, 5.9592, 5.9476, 5.9482, 5.9482, 5.9476, 5.945, 5.945, 5.9466, 5.9424, 5.9419, 5.9413, 5.9355, 5.935, 5.9355, 6.0445, 6.0421, 6.0411, 6.0458, 6.1098, 6.0981, 6.101, 6.101, 6.0999, 6.1065, 6.1065, 6.1065, 6.1065, 6.1065, 6.106, 6.1055, 6.1055, 6.1055, 6.1055, 6.1055, 6.1055, 6.1055, 6.1044, 6.1049, 6.1044, 6.1055, 6.1044, 6.1044, 6.1044, 6.1044, 6.1044, 6.1044, 6.1044, 6.1044, 6.1007, 6.1001, 6.0884, 6.0922, 6.0702, 6.0396, 6.0239, 6.0216, 6.021, 6.0216, 6.01, 6.0079, 6.0037, 6.0005, 6.001, 6.01, 6.0179, 6.0236, 6.01, 6.0045, 6.0035, 6.0035, 6.004, 6.0051, 6.0051, 6.0035, 6.0045, 6.0072, 6.0082, 6.0086, 6.0144, 6.0381, 6.0146, 5.9779, 5.9809, 5.9788, 5.9783, 5.9778, 5.9809, 5.9935, 5.9761, 5.9751, 5.9345, 5.9613, 5.9676, 5.966, 5.9424, 5.8949, 5.8944, 5.8944, 5.896, 5.9132, 5.9121, 5.9163, 5.9179, 5.9163, 5.9173, 5.9224, 5.923, 5.9219, 5.8909, 5.9087, 5.9109, 5.8998, 5.8831, 5.8928, 5.8596, 5.8586, 5.8586, 5.858, 5.8709, 5.8407, 5.8423, 5.8268, 5.8773, 5.8762, 5.8757, 5.8819, 5.8148, 5.8018, 5.8204, 5.8117, 5.8117, 5.8117, 5.8117, 5.8106, 5.8106, 5.8106, 5.8106, 5.8106, 5.8117, 5.8101, 5.8106, 5.8096, 5.8122, 5.8122, 5.8127, 5.8117, 5.8127, 5.8122, 5.8127, 5.8127, 5.8137, 5.8132, 5.8142, 5.8147, 5.8153, 5.8132, 5.8353, 5.8348, 5.7722, 5.7737, 5.7737, 5.7712, 5.7706, 5.7314, 5.7311, 5.7285, 5.727, 5.7346, 5.6611, 5.6655, 5.665, 5.6635, 5.6625, 5.6364, 5.7126, 5.7327, 5.7327, 5.7333, 5.7338, 5.7338, 5.7333, 5.7343, 5.7358, 5.7363, 5.7358, 5.7358, 5.7363, 5.7374, 5.7353, 5.7662, 5.7579, 5.7574, 5.7491, 5.7501, 5.7481, 5.7501, 5.7512, 5.7543, 5.7543, 5.7538, 5.7548, 5.7476, 5.7439, 5.7439, 5.7512, 5.7522, 5.7563, 5.7563, 5.7589, 5.7569, 5.7662, 5.7899, 5.7858, 5.7873, 5.7873, 5.7879, 5.7873, 5.7863, 5.7884, 5.7873, 5.7858, 5.7842, 5.777, 5.777, 5.7652, 5.7409, 5.7399, 5.7399, 5.7394, 5.7399, 5.7399, 5.7399, 5.7405, 5.7399, 5.7394, 5.7389, 5.7374, 5.7178, 5.7219, 5.6722, 5.6691, 5.6691, 5.6523, 5.5939, 5.5684, 5.5684, 5.5684, 5.5684, 5.5684, 5.5684, 5.5684, 5.5684, 5.5684, 5.5684, 5.5674, 5.5674, 5.5679, 5.5674, 5.5674, 5.5674, 5.5669, 5.5674, 5.5412, 5.5606, 5.5312, 5.5312, 5.5312, 5.5312, 5.5292, 5.5292, 5.5277, 5.5277, 5.5292, 5.5297, 5.5297, 5.5297, 5.5262, 5.5282, 5.5312, 5.5312, 5.5312, 5.5302, 5.5302, 5.5318, 5.5318, 5.5307, 5.5312, 5.5307, 5.5307, 5.5292, 5.5252]\n"
     ]
    }
   ],
   "source": [
    "print(lista_bid_data)"
   ]
  },
  {
   "cell_type": "markdown",
   "id": "30334969",
   "metadata": {},
   "source": [
    "# Mostrando em um gráfico os valores do BID em 1 ano"
   ]
  },
  {
   "cell_type": "code",
   "execution_count": 34,
   "id": "9a92b556",
   "metadata": {},
   "outputs": [
    {
     "data": {
      "image/png": "[encoded data removed]",
      "text/plain": [
       "<Figure size 1080x360 with 1 Axes>"
      ]
     },
     "metadata": {
      "needs_background": "light"
     },
     "output_type": "display_data"
    }
   ],
   "source": [
    "plt.figure(figsize=(15,5))\n",
    "plt.plot(lista_bid_data)\n",
    "plt.xlabel('Valor Bid')\n",
    "plt.ylabel('Dias')\n",
    "plt.axis([1,365,5.0,6.5])\n",
    "plt.show()"
   ]
  },
  {
   "cell_type": "markdown",
   "id": "e8ab5ca1",
   "metadata": {},
   "source": [
    "# Legendas\n",
    "## Bid = Compra\n",
    "## Ask = Venda\n",
    "## VarBid = Variação\n",
    "## pctChange = Porcentagem de Variação\n",
    "## High = Maximo\n",
    "## Low = Mínimo"
   ]
  }
 ],
 "metadata": {
  "kernelspec": {
   "display_name": "Python 3 (ipykernel)",
   "language": "python",
   "name": "python3"
  },
  "language_info": {
   "codemirror_mode": {
    "name": "ipython",
    "version": 3
   },
   "file_extension": ".py",
   "mimetype": "text/x-python",
   "name": "python",
   "nbconvert_exporter": "python",
   "pygments_lexer": "ipython3",
   "version": "3.8.10"
  }
 },
 "nbformat": 4,
 "nbformat_minor": 5
}
