{
 "cells": [
  {
   "cell_type": "markdown",
   "id": "0b9fffe3",
   "metadata": {},
   "source": [
    "# Link utilizado para pegar as cotações das moedas:https://docs.awesomeapi.com.br/api-de-moedas#legendas\n"
   ]
  },
  {
   "cell_type": "markdown",
   "id": "5aa6bc67",
   "metadata": {},
   "source": [
    "# Importando Bibliotecas utilizadas no projeto"
   ]
  },
  {
   "cell_type": "code",
   "execution_count": 2,
   "id": "d5e8cf47",
   "metadata": {},
   "outputs": [],
   "source": [
    "import requests\n",
    "import json\n",
    "import pandas as pd\n",
    "import matplotlib.pyplot as plt"
   ]
  },
  {
   "cell_type": "markdown",
   "id": "17f620bf",
   "metadata": {},
   "source": [
    "# Solicitando as informações ao usuário de qual moeda fazer a cotação"
   ]
  },
  {
   "cell_type": "code",
   "execution_count": 36,
   "id": "1626d98e",
   "metadata": {},
   "outputs": [
    {
     "name": "stdout",
     "output_type": "stream",
     "text": [
      "Qual moeda fazer cotação: USD\n",
      "Pegar cotação de quantos dias anteriores: 30\n",
      "Data de inicio: 20210306\n",
      "Data final: 20220306\n"
     ]
    }
   ],
   "source": [
    "cotacao_moeda = str(input('Qual moeda fazer cotação: '))"
   ]
  },
  {
   "cell_type": "markdown",
   "id": "792a3c7a",
   "metadata": {},
   "source": [
    "# Solicitando as informações ao usuário de quantos dias anteriores fazer a cotação do BID"
   ]
  },
  {
   "cell_type": "code",
   "execution_count": null,
   "id": "a9990070",
   "metadata": {},
   "outputs": [],
   "source": [
    "cotacoes_anteriores = int(input('Pegar cotação de quantos dias anteriores: '))"
   ]
  },
  {
   "cell_type": "markdown",
   "id": "e215dbf3",
   "metadata": {},
   "source": [
    "# Solicitando as informações ao usuário de qual determinado tempo fazer a cotação do BID"
   ]
  },
  {
   "cell_type": "code",
   "execution_count": null,
   "id": "148d7626",
   "metadata": {},
   "outputs": [],
   "source": [
    "data_cotacao_inicio = str(input('Data de inicio: '))\n",
    "data_cotacao_final = str(input('Data final: '))"
   ]
  },
  {
   "cell_type": "markdown",
   "id": "63318132",
   "metadata": {},
   "source": [
    "# Trasformando a URL da API em uma constante"
   ]
  },
  {
   "cell_type": "code",
   "execution_count": 44,
   "id": "02df0287",
   "metadata": {},
   "outputs": [],
   "source": [
    "url_cotacao_atualizada = f\"https://economia.awesomeapi.com.br/json/last/{cotacao_moeda}-BRL\"\n",
    "url_cotacao_dias_anteriores = f\"https://economia.awesomeapi.com.br/json/daily/{cotacao_moeda}-BRL/{cotacoes_anteriores}\"\n",
    "url_cotacao_determinada_data = f\"https://economia.awesomeapi.com.br/{cotacao_moeda}-BRL/365?start_date={data_cotacao_inicio}&end_date={data_cotacao_final}\""
   ]
  },
  {
   "cell_type": "markdown",
   "id": "5ac4ded8",
   "metadata": {},
   "source": [
    "# Criando a função que puxa os dados atualizados da API"
   ]
  },
  {
   "cell_type": "code",
   "execution_count": 45,
   "id": "5cbdff31",
   "metadata": {},
   "outputs": [],
   "source": [
    "def cotacao_atualizada():\n",
    "    r = requests.get(url_cotacao_atualizada)\n",
    "    r_json = r.json()\n",
    "    return r.json()"
   ]
  },
  {
   "cell_type": "markdown",
   "id": "1c3614d4",
   "metadata": {},
   "source": [
    "# Criando a função que puxa os dados dos dias anteriores da API"
   ]
  },
  {
   "cell_type": "code",
   "execution_count": 46,
   "id": "a41094cc",
   "metadata": {},
   "outputs": [],
   "source": [
    "def cotacao_dias_anteriores():\n",
    "    r = requests.get(url_cotacao_dias_anteriores)\n",
    "    r_json = r.json()\n",
    "    return r.json()"
   ]
  },
  {
   "cell_type": "markdown",
   "id": "ae09abe9",
   "metadata": {},
   "source": [
    "# Criando a função que puxa os dados de determinada data na API"
   ]
  },
  {
   "cell_type": "code",
   "execution_count": 47,
   "id": "eb2606b3",
   "metadata": {},
   "outputs": [],
   "source": [
    "def cotacao_por_data():\n",
    "    r = requests.get(url_cotacao_determinada_data)\n",
    "    r_json = r.json()\n",
    "    return r_json"
   ]
  },
  {
   "cell_type": "markdown",
   "id": "85076461",
   "metadata": {},
   "source": [
    "# Mostrando na tela informações da cotação atualizada em um dicionário"
   ]
  },
  {
   "cell_type": "code",
   "execution_count": 48,
   "id": "ad563050",
   "metadata": {},
   "outputs": [
    {
     "data": {
      "text/plain": [
       "{'USDBRL': {'code': 'USD',\n",
       "  'codein': 'BRL',\n",
       "  'name': 'Dólar Americano/Real Brasileiro',\n",
       "  'high': '5.0976',\n",
       "  'low': '5.0264',\n",
       "  'varBid': '0.0305',\n",
       "  'pctChange': '0.61',\n",
       "  'bid': '5.062',\n",
       "  'ask': '5.0629',\n",
       "  'timestamp': '1646429401',\n",
       "  'create_date': '2022-03-04 18:30:01'}}"
      ]
     },
     "execution_count": 48,
     "metadata": {},
     "output_type": "execute_result"
    }
   ],
   "source": [
    "cotacao_atual_dict = cotacao_atualizada()\n",
    "cotacao_atual_dict"
   ]
  },
  {
   "cell_type": "markdown",
   "id": "b0cce1bd",
   "metadata": {},
   "source": [
    "# Mostrando na tela informações da cotação atualizada em um DataFrame"
   ]
  },
  {
   "cell_type": "code",
   "execution_count": 49,
   "id": "f3289143",
   "metadata": {},
   "outputs": [
    {
     "data": {
      "text/html": [
       "<div>\n",
       "<style scoped>\n",
       "    .dataframe tbody tr th:only-of-type {\n",
       "        vertical-align: middle;\n",
       "    }\n",
       "\n",
       "    .dataframe tbody tr th {\n",
       "        vertical-align: top;\n",
       "    }\n",
       "\n",
       "    .dataframe thead th {\n",
       "        text-align: right;\n",
       "    }\n",
       "</style>\n",
       "<table border=\"1\" class=\"dataframe\">\n",
       "  <thead>\n",
       "    <tr style=\"text-align: right;\">\n",
       "      <th></th>\n",
       "      <th>USDBRL</th>\n",
       "    </tr>\n",
       "  </thead>\n",
       "  <tbody>\n",
       "    <tr>\n",
       "      <th>ask</th>\n",
       "      <td>5.0629</td>\n",
       "    </tr>\n",
       "    <tr>\n",
       "      <th>bid</th>\n",
       "      <td>5.062</td>\n",
       "    </tr>\n",
       "    <tr>\n",
       "      <th>code</th>\n",
       "      <td>USD</td>\n",
       "    </tr>\n",
       "    <tr>\n",
       "      <th>codein</th>\n",
       "      <td>BRL</td>\n",
       "    </tr>\n",
       "    <tr>\n",
       "      <th>create_date</th>\n",
       "      <td>2022-03-04 18:30:01</td>\n",
       "    </tr>\n",
       "    <tr>\n",
       "      <th>high</th>\n",
       "      <td>5.0976</td>\n",
       "    </tr>\n",
       "    <tr>\n",
       "      <th>low</th>\n",
       "      <td>5.0264</td>\n",
       "    </tr>\n",
       "    <tr>\n",
       "      <th>name</th>\n",
       "      <td>Dólar Americano/Real Brasileiro</td>\n",
       "    </tr>\n",
       "    <tr>\n",
       "      <th>pctChange</th>\n",
       "      <td>0.61</td>\n",
       "    </tr>\n",
       "    <tr>\n",
       "      <th>timestamp</th>\n",
       "      <td>1646429401</td>\n",
       "    </tr>\n",
       "    <tr>\n",
       "      <th>varBid</th>\n",
       "      <td>0.0305</td>\n",
       "    </tr>\n",
       "  </tbody>\n",
       "</table>\n",
       "</div>"
      ],
      "text/plain": [
       "                                      USDBRL\n",
       "ask                                   5.0629\n",
       "bid                                    5.062\n",
       "code                                     USD\n",
       "codein                                   BRL\n",
       "create_date              2022-03-04 18:30:01\n",
       "high                                  5.0976\n",
       "low                                   5.0264\n",
       "name         Dólar Americano/Real Brasileiro\n",
       "pctChange                               0.61\n",
       "timestamp                         1646429401\n",
       "varBid                                0.0305"
      ]
     },
     "execution_count": 49,
     "metadata": {},
     "output_type": "execute_result"
    }
   ],
   "source": [
    "cotacao_atual_df = pd.DataFrame(cotacao_atual_dict)\n",
    "cotacao_atual_df"
   ]
  },
  {
   "cell_type": "markdown",
   "id": "be5edf33",
   "metadata": {},
   "source": [
    "# Mostrando na tela informações da cotação dos últimos 30 dias em um dicionário"
   ]
  },
  {
   "cell_type": "code",
   "execution_count": 50,
   "id": "8f7eb63a",
   "metadata": {},
   "outputs": [
    {
     "name": "stdout",
     "output_type": "stream",
     "text": [
      "[{'code': 'USD', 'codein': 'BRL', 'name': 'Dólar Americano/Real Brasileiro', 'high': '5.0363', 'low': '5.0343', 'varBid': '0.0038', 'pctChange': '0.08', 'bid': '5.0358', 'ask': '5.0368', 'timestamp': '1623189003', 'create_date': '2021-06-08 18:50:03'}, {'high': '5.5507', 'low': '5.5461', 'varBid': '0', 'pctChange': '0', 'bid': '5.5458', 'ask': '5.5464', 'timestamp': '1618866002'}, {'high': '5.6845', 'low': '5.5664', 'varBid': '0.1042', 'pctChange': '1.87', 'bid': '5.6753', 'ask': '5.6771', 'timestamp': '1618001874'}, {'high': '5.5735', 'low': '5.5682', 'varBid': '-0.0039', 'pctChange': '-0.07', 'bid': '5.5679', 'ask': '5.5684', 'timestamp': '1617915603'}, {'high': '5.6151', 'low': '5.6136', 'varBid': '-0.0007', 'pctChange': '-0.01', 'bid': '5.6133', 'ask': '5.6139', 'timestamp': '1617829203'}, {'high': '5.6682', 'low': '5.5762', 'varBid': '-0.0732', 'pctChange': '-1.29', 'bid': '5.5892', 'ask': '5.5907', 'timestamp': '1617742676'}, {'high': '5.6662', 'low': '5.6642', 'varBid': '0.001', 'pctChange': '0.02', 'bid': '5.6639', 'ask': '5.6645', 'timestamp': '1617656400'}, {'high': '5.7088', 'low': '5.708', 'varBid': '0.0009', 'pctChange': '0.02', 'bid': '5.7075', 'ask': '5.7085', 'timestamp': '1617378737'}, {'high': '5.7088', 'low': '5.7088', 'varBid': '0.0018', 'pctChange': '0.03', 'bid': '5.7071', 'ask': '5.7106', 'timestamp': '1617310799'}, {'high': '5.7767', 'low': '5.622', 'varBid': '0.0018', 'pctChange': '0.03', 'bid': '5.6315', 'ask': '5.635', 'timestamp': '1617224400'}, {'high': '5.776', 'low': '5.7729', 'varBid': '-0.0012', 'pctChange': '-0.02', 'bid': '5.7729', 'ask': '5.7736', 'timestamp': '1617143284'}, {'high': '5.7824', 'low': '5.7814', 'varBid': '0.0025', 'pctChange': '0.04', 'bid': '5.7819', 'ask': '5.7829', 'timestamp': '1617051605'}, {'high': '5.7574', 'low': '5.6448', 'varBid': '0.1099', 'pctChange': '1.95', 'bid': '5.7561', 'ask': '5.7586', 'timestamp': '1616792397'}, {'high': '5.6494', 'low': '5.6466', 'varBid': '0.0019', 'pctChange': '0.03', 'bid': '5.6491', 'ask': '5.6498', 'timestamp': '1616711282'}, {'high': '5.6222', 'low': '5.6212', 'varBid': '0.0004', 'pctChange': '0.01', 'bid': '5.6211', 'ask': '5.6216', 'timestamp': '1616619604'}, {'high': '5.5217', 'low': '5.5213', 'varBid': '0.0003', 'pctChange': '0', 'bid': '5.5214', 'ask': '5.5219', 'timestamp': '1616533201'}, {'high': '5.5625', 'low': '5.5605', 'varBid': '0.0001', 'pctChange': '0', 'bid': '5.5602', 'ask': '5.5608', 'timestamp': '1616101201'}, {'high': '5.5855', 'low': '5.5847', 'varBid': '0.0015', 'pctChange': '0.03', 'bid': '5.5832', 'ask': '5.5862', 'timestamp': '1616014800'}, {'high': '5.6251', 'low': '5.6233', 'varBid': '0.0002', 'pctChange': '0', 'bid': '5.6244', 'ask': '5.6252', 'timestamp': '1615933682'}, {'high': '5.6162', 'low': '5.6162', 'varBid': '0.0006', 'pctChange': '0.01', 'bid': '5.6156', 'ask': '5.6168', 'timestamp': '1615841999'}, {'high': '5.587', 'low': '5.5324', 'varBid': '0.0163', 'pctChange': '0.3', 'bid': '5.5518', 'ask': '5.5523', 'timestamp': '1615584603'}, {'high': '5.5362', 'low': '5.5362', 'varBid': '0.0005', 'pctChange': '0.01', 'bid': '5.5357', 'ask': '5.5367', 'timestamp': '1615501683'}, {'high': '5.6723', 'low': '5.6723', 'varBid': '0.0003', 'pctChange': '0.01', 'bid': '5.672', 'ask': '5.6726', 'timestamp': '1615411802'}, {'high': '5.8029', 'low': '5.8029', 'varBid': '0.0004', 'pctChange': '0.01', 'bid': '5.8025', 'ask': '5.8032', 'timestamp': '1615325385'}, {'high': '5.8758', 'low': '5.8758', 'varBid': '0.0003', 'pctChange': '0.01', 'bid': '5.8755', 'ask': '5.8761', 'timestamp': '1615238999'}, {'high': '5.7195', 'low': '5.654', 'varBid': '0.0217', 'pctChange': '0.38', 'bid': '5.6908', 'ask': '5.6913', 'timestamp': '1614979799'}, {'high': '5.6697', 'low': '5.6697', 'varBid': '0.0004', 'pctChange': '0.01', 'bid': '5.6693', 'ask': '5.6701', 'timestamp': '1614896883'}, {'high': '5.6197', 'low': '5.6197', 'varBid': '0', 'pctChange': '0', 'bid': '5.6193', 'ask': '5.62', 'timestamp': '1614808802'}, {'high': '5.7327', 'low': '5.6387', 'varBid': '0.0002', 'pctChange': '0', 'bid': '5.6761', 'ask': '5.6766', 'timestamp': '1614719795'}, {'high': '5.6421', 'low': '5.6421', 'varBid': '0.0003', 'pctChange': '0.01', 'bid': '5.6418', 'ask': '5.6425', 'timestamp': '1614636130'}]\n"
     ]
    }
   ],
   "source": [
    "cotacao_ultimos_dias_dict = cotacao_dias_anteriores()\n",
    "print(cotacao_ultimos_dias_dict)\n"
   ]
  },
  {
   "cell_type": "code",
   "execution_count": 136,
   "id": "42eaee69",
   "metadata": {},
   "outputs": [
    {
     "name": "stdout",
     "output_type": "stream",
     "text": [
      "[1, 2, 3, 4, 5, 6, 7, 8, 9, 10, 11, 12, 13, 14, 15, 16, 17, 18, 19, 20, 21, 22, 23, 24, 25, 26, 27, 28, 29, 30]\n"
     ]
    }
   ],
   "source": [
    "lista_dias = []\n",
    "for dia in range(1, cotacoes_anteriores+1):\n",
    "    lista_dias.append(dia)\n",
    "print(lista_dias)"
   ]
  },
  {
   "cell_type": "code",
   "execution_count": 143,
   "id": "f717e3b0",
   "metadata": {},
   "outputs": [],
   "source": [
    "lista_bid_ultimos_dias = []\n",
    "for bid in cotacao_ultimos_dias_dict:\n",
    "    lista_bid_ultimos_dias.append(float(bid['bid']))\n",
    "lista_bid_ultimos_dias.reverse()"
   ]
  },
  {
   "cell_type": "code",
   "execution_count": 144,
   "id": "d4d4d718",
   "metadata": {},
   "outputs": [
    {
     "name": "stdout",
     "output_type": "stream",
     "text": [
      "[5.6418, 5.6761, 5.6193, 5.6693, 5.6908, 5.8755, 5.8025, 5.672, 5.5357, 5.5518, 5.6156, 5.6244, 5.5832, 5.5602, 5.5214, 5.6211, 5.6491, 5.7561, 5.7819, 5.7729, 5.6315, 5.7071, 5.7075, 5.6639, 5.5892, 5.6133, 5.5679, 5.6753, 5.5458, 5.0358]\n"
     ]
    }
   ],
   "source": [
    "print(lista_bid_ultimos_dias)"
   ]
  },
  {
   "cell_type": "code",
   "execution_count": 145,
   "id": "d0e25232",
   "metadata": {},
   "outputs": [
    {
     "name": "stdout",
     "output_type": "stream",
     "text": [
      "[(1, 5.6418), (2, 5.6761), (3, 5.6193), (4, 5.6693), (5, 5.6908), (6, 5.8755), (7, 5.8025), (8, 5.672), (9, 5.5357), (10, 5.5518), (11, 5.6156), (12, 5.6244), (13, 5.5832), (14, 5.5602), (15, 5.5214), (16, 5.6211), (17, 5.6491), (18, 5.7561), (19, 5.7819), (20, 5.7729), (21, 5.6315), (22, 5.7071), (23, 5.7075), (24, 5.6639), (25, 5.5892), (26, 5.6133), (27, 5.5679), (28, 5.6753), (29, 5.5458), (30, 5.0358)]\n"
     ]
    }
   ],
   "source": [
    "lista_axiliar = list(zip(lista_dias,lista_bid_ultimos_dias))\n",
    "print(lista_axiliar)"
   ]
  },
  {
   "cell_type": "markdown",
   "id": "ac77e9f4",
   "metadata": {},
   "source": [
    "# Trasformando as informações da cotação dos últimos 30 dias em um DataFrame"
   ]
  },
  {
   "cell_type": "code",
   "execution_count": 146,
   "id": "e5fb932b",
   "metadata": {},
   "outputs": [],
   "source": [
    "tabela_bid_df = pd.DataFrame(lista_axiliar)\n",
    "tabela_bid_df = tabela_bid_df.rename(columns={0:'Dia',1:\"Bid\"})\n",
    "\n"
   ]
  },
  {
   "cell_type": "markdown",
   "id": "fadc13d8",
   "metadata": {},
   "source": [
    "# Mostrando na tela informações da cotação dos últimos 30 dias em um DataFrame"
   ]
  },
  {
   "cell_type": "code",
   "execution_count": 153,
   "id": "0657a4c9",
   "metadata": {},
   "outputs": [
    {
     "data": {
      "text/html": [
       "<div>\n",
       "<style scoped>\n",
       "    .dataframe tbody tr th:only-of-type {\n",
       "        vertical-align: middle;\n",
       "    }\n",
       "\n",
       "    .dataframe tbody tr th {\n",
       "        vertical-align: top;\n",
       "    }\n",
       "\n",
       "    .dataframe thead th {\n",
       "        text-align: right;\n",
       "    }\n",
       "</style>\n",
       "<table border=\"1\" class=\"dataframe\">\n",
       "  <thead>\n",
       "    <tr style=\"text-align: right;\">\n",
       "      <th></th>\n",
       "      <th>Bid</th>\n",
       "    </tr>\n",
       "    <tr>\n",
       "      <th>Dia</th>\n",
       "      <th></th>\n",
       "    </tr>\n",
       "  </thead>\n",
       "  <tbody>\n",
       "    <tr>\n",
       "      <th>1</th>\n",
       "      <td>5.6418</td>\n",
       "    </tr>\n",
       "    <tr>\n",
       "      <th>2</th>\n",
       "      <td>5.6761</td>\n",
       "    </tr>\n",
       "    <tr>\n",
       "      <th>3</th>\n",
       "      <td>5.6193</td>\n",
       "    </tr>\n",
       "    <tr>\n",
       "      <th>4</th>\n",
       "      <td>5.6693</td>\n",
       "    </tr>\n",
       "    <tr>\n",
       "      <th>5</th>\n",
       "      <td>5.6908</td>\n",
       "    </tr>\n",
       "    <tr>\n",
       "      <th>6</th>\n",
       "      <td>5.8755</td>\n",
       "    </tr>\n",
       "    <tr>\n",
       "      <th>7</th>\n",
       "      <td>5.8025</td>\n",
       "    </tr>\n",
       "    <tr>\n",
       "      <th>8</th>\n",
       "      <td>5.6720</td>\n",
       "    </tr>\n",
       "    <tr>\n",
       "      <th>9</th>\n",
       "      <td>5.5357</td>\n",
       "    </tr>\n",
       "    <tr>\n",
       "      <th>10</th>\n",
       "      <td>5.5518</td>\n",
       "    </tr>\n",
       "    <tr>\n",
       "      <th>11</th>\n",
       "      <td>5.6156</td>\n",
       "    </tr>\n",
       "    <tr>\n",
       "      <th>12</th>\n",
       "      <td>5.6244</td>\n",
       "    </tr>\n",
       "    <tr>\n",
       "      <th>13</th>\n",
       "      <td>5.5832</td>\n",
       "    </tr>\n",
       "    <tr>\n",
       "      <th>14</th>\n",
       "      <td>5.5602</td>\n",
       "    </tr>\n",
       "    <tr>\n",
       "      <th>15</th>\n",
       "      <td>5.5214</td>\n",
       "    </tr>\n",
       "    <tr>\n",
       "      <th>16</th>\n",
       "      <td>5.6211</td>\n",
       "    </tr>\n",
       "    <tr>\n",
       "      <th>17</th>\n",
       "      <td>5.6491</td>\n",
       "    </tr>\n",
       "    <tr>\n",
       "      <th>18</th>\n",
       "      <td>5.7561</td>\n",
       "    </tr>\n",
       "    <tr>\n",
       "      <th>19</th>\n",
       "      <td>5.7819</td>\n",
       "    </tr>\n",
       "    <tr>\n",
       "      <th>20</th>\n",
       "      <td>5.7729</td>\n",
       "    </tr>\n",
       "    <tr>\n",
       "      <th>21</th>\n",
       "      <td>5.6315</td>\n",
       "    </tr>\n",
       "    <tr>\n",
       "      <th>22</th>\n",
       "      <td>5.7071</td>\n",
       "    </tr>\n",
       "    <tr>\n",
       "      <th>23</th>\n",
       "      <td>5.7075</td>\n",
       "    </tr>\n",
       "    <tr>\n",
       "      <th>24</th>\n",
       "      <td>5.6639</td>\n",
       "    </tr>\n",
       "    <tr>\n",
       "      <th>25</th>\n",
       "      <td>5.5892</td>\n",
       "    </tr>\n",
       "    <tr>\n",
       "      <th>26</th>\n",
       "      <td>5.6133</td>\n",
       "    </tr>\n",
       "    <tr>\n",
       "      <th>27</th>\n",
       "      <td>5.5679</td>\n",
       "    </tr>\n",
       "    <tr>\n",
       "      <th>28</th>\n",
       "      <td>5.6753</td>\n",
       "    </tr>\n",
       "    <tr>\n",
       "      <th>29</th>\n",
       "      <td>5.5458</td>\n",
       "    </tr>\n",
       "    <tr>\n",
       "      <th>30</th>\n",
       "      <td>5.0358</td>\n",
       "    </tr>\n",
       "  </tbody>\n",
       "</table>\n",
       "</div>"
      ],
      "text/plain": [
       "        Bid\n",
       "Dia        \n",
       "1    5.6418\n",
       "2    5.6761\n",
       "3    5.6193\n",
       "4    5.6693\n",
       "5    5.6908\n",
       "6    5.8755\n",
       "7    5.8025\n",
       "8    5.6720\n",
       "9    5.5357\n",
       "10   5.5518\n",
       "11   5.6156\n",
       "12   5.6244\n",
       "13   5.5832\n",
       "14   5.5602\n",
       "15   5.5214\n",
       "16   5.6211\n",
       "17   5.6491\n",
       "18   5.7561\n",
       "19   5.7819\n",
       "20   5.7729\n",
       "21   5.6315\n",
       "22   5.7071\n",
       "23   5.7075\n",
       "24   5.6639\n",
       "25   5.5892\n",
       "26   5.6133\n",
       "27   5.5679\n",
       "28   5.6753\n",
       "29   5.5458\n",
       "30   5.0358"
      ]
     },
     "execution_count": 153,
     "metadata": {},
     "output_type": "execute_result"
    }
   ],
   "source": [
    "tabela_bid_df\n"
   ]
  },
  {
   "cell_type": "markdown",
   "id": "eeddd28a",
   "metadata": {},
   "source": [
    "# Mostrando em um gráfico a cotação dos últimos 30 dias do BID"
   ]
  },
  {
   "cell_type": "code",
   "execution_count": 159,
   "id": "f20b185b",
   "metadata": {},
   "outputs": [
    {
     "data": {
      "image/png": "[encoded data removed]",
      "text/plain": [
       "<Figure size 1080x360 with 1 Axes>"
      ]
     },
     "metadata": {
      "needs_background": "light"
     },
     "output_type": "display_data"
    }
   ],
   "source": [
    "plt.figure(figsize=(15,5))\n",
    "plt.plot(tabela_bid_df['Bid'])\n",
    "plt.axis([1,30,4.6,6.0])\n",
    "plt.ylabel('Valor Bid')\n",
    "plt.xlabel('Dia')\n",
    "\n",
    "plt.show()\n"
   ]
  },
  {
   "cell_type": "markdown",
   "id": "623fd151",
   "metadata": {},
   "source": [
    "# Pegando a cotação do BID dentro de 1 ano e passando para um dicionário"
   ]
  },
  {
   "cell_type": "code",
   "execution_count": 149,
   "id": "8e2a16f1",
   "metadata": {},
   "outputs": [],
   "source": [
    "cotacao_bid_data_dict = cotacao_por_data()"
   ]
  },
  {
   "cell_type": "code",
   "execution_count": 154,
   "id": "219a191b",
   "metadata": {},
   "outputs": [],
   "source": [
    "lista_bid_data = []\n",
    "for bid in cotacao_bid_data_dict:\n",
    "    lista_bid_data.append(float(bid['bid']))\n",
    "lista_bid_data.reverse()"
   ]
  },
  {
   "cell_type": "code",
   "execution_count": 156,
   "id": "07435083",
   "metadata": {},
   "outputs": [
    {
     "name": "stdout",
     "output_type": "stream",
     "text": [
      "[5.6825, 5.6826, 5.6861, 5.6861, 5.6806, 5.668, 5.6876, 5.6884, 5.6884, 5.6884, 5.6884, 5.6884, 5.6884, 5.6884, 5.6884, 5.6884, 5.6884, 5.6884, 5.6884, 5.6884, 5.6884, 5.6884, 5.6884, 5.6884, 5.6884, 5.6884, 5.6884, 5.6884, 5.6884, 5.6884, 5.6884, 5.6884, 5.6884, 5.6884, 5.6845, 5.6826, 5.7126, 5.745, 5.745, 5.7406, 5.736, 5.7246, 5.7378, 5.7366, 5.741, 5.743, 5.7466, 5.7451, 5.7413, 5.7413, 5.7413, 5.7413, 5.743, 5.7427, 5.7427, 5.7427, 5.7398, 5.6976, 5.6608, 5.6593, 5.6549, 5.6561, 5.6631, 5.6694, 5.675, 5.667, 5.6374, 5.6361, 5.6337, 5.6348, 5.6249, 5.6217, 5.6391, 5.6386, 5.6398, 5.6386, 5.6281, 5.6279, 5.6333, 5.6351, 5.6909, 5.693, 5.7032, 5.6939, 5.563, 5.571, 5.571, 5.571, 5.571, 5.571, 5.571, 5.571, 5.571, 5.571, 5.571, 5.571, 5.571, 5.571, 5.571, 5.571, 5.571, 5.571, 5.571, 5.571, 5.571, 5.571, 5.571, 5.571, 5.571, 5.5703, 5.5663, 5.5692, 5.6532, 5.6766, 5.6766, 5.6674, 5.6933, 5.684, 5.677, 5.677, 5.677, 5.677, 5.677, 5.677, 5.677, 5.677, 5.677, 5.677, 5.677, 5.677, 5.677, 5.677, 5.677, 5.677, 5.677, 5.677, 5.677, 5.677, 5.677, 5.677, 5.677, 5.677, 5.6814, 5.6708, 5.7087, 5.6873, 5.6884, 5.6817, 5.6863, 5.6863, 5.6883, 5.6884, 5.6883, 5.6699, 5.634, 5.6333, 5.6333, 5.6333, 5.6353, 5.6353, 5.6353, 5.6353, 5.6353, 5.6353, 5.6399, 5.6714, 5.6647, 5.652, 5.5965, 5.5655, 5.5757, 5.5342, 5.5342, 5.5377, 5.5377, 5.5377, 5.5489, 5.5123, 5.5163, 5.5149, 5.5327, 5.5336, 5.5329, 5.5286, 5.5276, 5.5292, 5.5339, 5.5133, 5.5241, 5.5261, 5.5236, 5.5234, 5.5254, 5.5165, 5.5232, 5.523, 5.5229, 5.5371, 5.5477, 5.4413, 5.421, 5.4377, 5.4597, 5.4605, 5.4516, 5.4562, 5.4535, 5.453, 5.4535, 5.4535, 5.476, 5.481, 5.481, 5.4875, 5.51, 5.4448, 5.4466, 5.447, 5.4466, 5.447, 5.443, 5.4466, 5.4466, 5.4293, 5.4192, 5.4325, 5.4313, 5.4094, 5.4235, 5.395, 5.3896, 5.3095, 5.2979, 5.2675, 5.2682, 5.266, 5.3056, 5.2812, 5.2672, 5.2755, 5.2878, 5.2795, 5.278, 5.3012, 5.3249, 5.3253, 5.3253, 5.323, 5.3276, 5.3274, 5.3274, 5.3272, 5.3274, 5.323, 5.3151, 5.2976, 5.308, 5.2803, 5.2663, 5.2565, 5.2561, 5.2629, 5.2652, 5.2734, 5.2622, 5.2594, 5.259, 5.2578, 5.2622, 5.2507, 5.2618, 5.2841, 5.2663, 5.2626, 5.2325, 5.2384, 5.2344, 5.2382, 5.228, 5.2545, 5.2181, 5.2181, 5.2203, 5.2203, 5.2203, 5.2203, 5.217, 5.1923, 5.1875, 5.1833, 5.1588, 5.1337, 5.135, 5.1335, 5.1342, 5.1462, 5.1671, 5.1713, 5.1712, 5.173, 5.173, 5.173, 5.173, 5.17, 5.173, 5.1733, 5.1733, 5.1733, 5.1733, 5.173, 5.173, 5.1761, 5.173, 5.1653, 5.1238, 5.125, 5.1367, 5.1367, 5.1367, 5.1367, 5.139, 5.1367, 5.1368, 5.1368, 5.1368, 5.1368, 5.1368, 5.1368, 5.1342, 5.0973, 5.1045, 5.1058, 5.1031, 5.107, 5.0936, 5.0562, 5.0615, 5.057, 5.0491, 5.0074, 5.0045, 5.0618, 5.13, 5.1231, 5.1192, 5.1336, 5.1558, 5.1581, 5.1623, 5.1631, 5.1597, 5.1599, 5.1595, 5.2138, 5.0865, 5.0973, 5.1058, 5.0502, 5.0455, 5.0947]\n"
     ]
    }
   ],
   "source": [
    "print(lista_bid_data)"
   ]
  },
  {
   "cell_type": "markdown",
   "id": "844500c5",
   "metadata": {},
   "source": [
    "# Mostrando em um gráfico os valores do BID em 1 ano"
   ]
  },
  {
   "cell_type": "code",
   "execution_count": 157,
   "id": "948ecce9",
   "metadata": {},
   "outputs": [
    {
     "data": {
      "image/png": "[encoded data removed]",
      "text/plain": [
       "<Figure size 1080x360 with 1 Axes>"
      ]
     },
     "metadata": {
      "needs_background": "light"
     },
     "output_type": "display_data"
    }
   ],
   "source": [
    "plt.figure(figsize=(15,5))\n",
    "plt.plot(lista_bid_data)\n",
    "plt.xlabel('Valor Bid')\n",
    "plt.ylabel('Dias')\n",
    "plt.axis([1,350,4.8,6.0])\n",
    "plt.show()"
   ]
  },
  {
   "cell_type": "markdown",
   "id": "cd530bee",
   "metadata": {},
   "source": [
    "# Legendas\n",
    "## Bid = Compra\n",
    "## Ask = Venda\n",
    "## VarBid = Variação\n",
    "## pctChange = Porcentagem de Variação\n",
    "## High = Maximo\n",
    "## Low = Mínimo"
   ]
  }
 ],
 "metadata": {
  "kernelspec": {
   "display_name": "Python 3 (ipykernel)",
   "language": "python",
   "name": "python3"
  },
  "language_info": {
   "codemirror_mode": {
    "name": "ipython",
    "version": 3
   },
   "file_extension": ".py",
   "mimetype": "text/x-python",
   "name": "python",
   "nbconvert_exporter": "python",
   "pygments_lexer": "ipython3",
   "version": "3.8.10"
  }
 },
 "nbformat": 4,
 "nbformat_minor": 5
}
